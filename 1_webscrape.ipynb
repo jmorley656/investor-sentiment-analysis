{
 "cells": [
  {
   "cell_type": "markdown",
   "metadata": {},
   "source": [
    "# Webscrape"
   ]
  },
  {
   "cell_type": "markdown",
   "metadata": {},
   "source": [
    "### Import Packages"
   ]
  },
  {
   "cell_type": "code",
   "execution_count": 1,
   "metadata": {
    "ExecuteTime": {
     "end_time": "2022-03-29T23:44:43.163953Z",
     "start_time": "2022-03-29T23:44:41.680286Z"
    }
   },
   "outputs": [],
   "source": [
    "from random import randint\n",
    "from time import sleep\n",
    "import requests\n",
    "from bs4 import BeautifulSoup\n",
    "import numpy as np\n",
    "import pandas as pd\n",
    "from datetime import datetime\n",
    "import cloudscraper"
   ]
  },
  {
   "cell_type": "markdown",
   "metadata": {},
   "source": [
    "## Scraping Script"
   ]
  },
  {
   "cell_type": "markdown",
   "metadata": {},
   "source": [
    "Scraping script below to be updated with appropriate first and large page paramters ahead of each scrape attempt. Script will do the following:\n",
    "- iterate through each page url with the page numbers between the first and last page parameters(int)\n",
    "- sleep for a random period of 2, 3 or 4 seconds. This step was introduced as good practise to avoid any issue that may arise from excessive page requests from a single url (ie captcha).\n",
    "- parse page html text\n",
    "- iterate through each of the page's 25 comments, grabbing the target html objects:\n",
    "    - date \n",
    "    - title \n",
    "    - comments \n",
    "    - content info (containing the user name, price and opion)\n",
    "- append each of the 25 comments attributes to the lists initialised at the start"
   ]
  },
  {
   "cell_type": "code",
   "execution_count": 5,
   "metadata": {
    "ExecuteTime": {
     "end_time": "2022-03-29T22:34:55.484432Z",
     "start_time": "2022-03-29T22:34:55.479780Z"
    }
   },
   "outputs": [],
   "source": [
    "url = 'url'"
   ]
  },
  {
   "cell_type": "code",
   "execution_count": 4,
   "metadata": {
    "ExecuteTime": {
     "end_time": "2022-03-29T22:34:43.502155Z",
     "start_time": "2022-03-29T22:34:43.467635Z"
    }
   },
   "outputs": [],
   "source": [
    "# returns a CloudScraper instance\n",
    "scraper = cloudscraper.create_scraper()"
   ]
  },
  {
   "cell_type": "code",
   "execution_count": 14,
   "metadata": {
    "ExecuteTime": {
     "end_time": "2022-03-29T23:32:20.274886Z",
     "start_time": "2022-03-29T22:52:59.576483Z"
    },
    "scrolled": false
   },
   "outputs": [
    {
     "name": "stdout",
     "output_type": "stream",
     "text": [
      "Scrape finished\n",
      "Last page scraped: 399\n",
      "Scraped comments: 9975\n"
     ]
    }
   ],
   "source": [
    "date = []\n",
    "title = []\n",
    "comment = []\n",
    "user = []\n",
    "price = []\n",
    "opinion = []\n",
    "last_page = 400\n",
    "first_page = 1\n",
    "\n",
    "for page in list(range(first_page, last_page)):\n",
    "    sleep(randint(3,5))\n",
    "    r = scraper.get(url.format(page))\n",
    "    pagesoup = BeautifulSoup(r.text, 'html.parser')\n",
    "    dates = [i.text for i in pagesoup.find_all(class_='share-chat-message__status-bar-time')]\n",
    "    titles = [i.text for i in pagesoup.find_all(class_='share-chat-message__status-bar')]\n",
    "    comments = [i.text for i in pagesoup.find_all(class_='share-chat-message__message-text')]\n",
    "    content_info = [i.text for i in pagesoup.find_all(class_='share-chat-message__content-info-box')]\n",
    "    \n",
    "    for d in dates:\n",
    "        date.append(d)\n",
    "    for t in titles:\n",
    "        title.append(t)\n",
    "    for c in comments:\n",
    "        comment.append(c)    \n",
    "    \n",
    "    for i in range(1, len(content_info), 3):\n",
    "        user.append(content_info[i-1])\n",
    "        price.append(content_info[i])\n",
    "        opinion.append(content_info[i+1])\n",
    "    \n",
    "    # if website presents captcha then end scrape and print message\n",
    "    \n",
    "    if pagesoup.find('title').text == 'Please Wait... | Cloudflare':\n",
    "        print('Captcha page indentified - datascrape ended')\n",
    "        print('Failed on page:', page)\n",
    "        print('Scraped Comments:', len(date))\n",
    "        break\n",
    "\n",
    "print('Scrape finished')\n",
    "print('Last page scraped:', page)\n",
    "print('Scraped comments:', len(date))"
   ]
  },
  {
   "cell_type": "code",
   "execution_count": 25,
   "metadata": {
    "ExecuteTime": {
     "end_time": "2022-03-29T23:35:03.389528Z",
     "start_time": "2022-03-29T23:35:03.381124Z"
    },
    "scrolled": true
   },
   "outputs": [
    {
     "name": "stdout",
     "output_type": "stream",
     "text": [
      "9975\n",
      "9975\n",
      "9975\n",
      "9975\n",
      "9975\n",
      "9975\n",
      "399.0\n"
     ]
    }
   ],
   "source": [
    "# incase scrape script fails, see what has been scraped\n",
    "\n",
    "print(len(date))\n",
    "print(len(title))\n",
    "print(len(comment))\n",
    "print(len(user))\n",
    "print(len(price))\n",
    "print(len(opinion))\n",
    "print(len(date)/25)"
   ]
  },
  {
   "cell_type": "code",
   "execution_count": 15,
   "metadata": {
    "ExecuteTime": {
     "end_time": "2022-03-29T23:32:53.922514Z",
     "start_time": "2022-03-29T23:32:53.886184Z"
    }
   },
   "outputs": [],
   "source": [
    "# create dataframe of lists generated in scrape script\n",
    "\n",
    "df = pd.DataFrame({'date':date, \n",
    "                   'user':user, \n",
    "                   'title':title, \n",
    "                   'comment':comment, \n",
    "                   'opinion':opinion, \n",
    "                   'price':price})"
   ]
  },
  {
   "cell_type": "code",
   "execution_count": 16,
   "metadata": {
    "ExecuteTime": {
     "end_time": "2022-03-29T23:33:01.484002Z",
     "start_time": "2022-03-29T23:33:01.433142Z"
    }
   },
   "outputs": [
    {
     "data": {
      "text/html": [
       "<div>\n",
       "<style scoped>\n",
       "    .dataframe tbody tr th:only-of-type {\n",
       "        vertical-align: middle;\n",
       "    }\n",
       "\n",
       "    .dataframe tbody tr th {\n",
       "        vertical-align: top;\n",
       "    }\n",
       "\n",
       "    .dataframe thead th {\n",
       "        text-align: right;\n",
       "    }\n",
       "</style>\n",
       "<table border=\"1\" class=\"dataframe\">\n",
       "  <thead>\n",
       "    <tr style=\"text-align: right;\">\n",
       "      <th></th>\n",
       "      <th>date</th>\n",
       "      <th>user</th>\n",
       "      <th>title</th>\n",
       "      <th>comment</th>\n",
       "      <th>opinion</th>\n",
       "      <th>price</th>\n",
       "    </tr>\n",
       "  </thead>\n",
       "  <tbody>\n",
       "    <tr>\n",
       "      <th>0</th>\n",
       "      <td>Today 22:43</td>\n",
       "      <td>Dillon2019</td>\n",
       "      <td>RE: Any use to us folks here?Today 22:43</td>\n",
       "      <td>This was on the BBC yesterday but I didnât c...</td>\n",
       "      <td>Strong Buy</td>\n",
       "      <td>Price:  13.10</td>\n",
       "    </tr>\n",
       "    <tr>\n",
       "      <th>1</th>\n",
       "      <td>Today 22:41</td>\n",
       "      <td>JiffyBag</td>\n",
       "      <td>RE: Any use to us folks here?Today 22:41</td>\n",
       "      <td>Russiaâs Economy in Freefallhttps://www.yout...</td>\n",
       "      <td>No Opinion</td>\n",
       "      <td>Price:  13.10</td>\n",
       "    </tr>\n",
       "    <tr>\n",
       "      <th>2</th>\n",
       "      <td>Today 22:15</td>\n",
       "      <td>JackoDLad</td>\n",
       "      <td>Any use to us folks here?Today 22:15</td>\n",
       "      <td>Found the following on another board (EUA) and...</td>\n",
       "      <td>No Opinion</td>\n",
       "      <td>Price:  13.10</td>\n",
       "    </tr>\n",
       "    <tr>\n",
       "      <th>3</th>\n",
       "      <td>Today 20:00</td>\n",
       "      <td>Tymers</td>\n",
       "      <td>RE: Naughty boysToday 20:00</td>\n",
       "      <td>Speedy, like Hydro at some point will be corre...</td>\n",
       "      <td>Strong Buy</td>\n",
       "      <td>Price:  13.10</td>\n",
       "    </tr>\n",
       "    <tr>\n",
       "      <th>4</th>\n",
       "      <td>Today 19:52</td>\n",
       "      <td>Tymers</td>\n",
       "      <td>RE: ChoicesToday 19:52</td>\n",
       "      <td>Choices is correct! Yet all comments are ones ...</td>\n",
       "      <td>Strong Buy</td>\n",
       "      <td>Price:  13.10</td>\n",
       "    </tr>\n",
       "  </tbody>\n",
       "</table>\n",
       "</div>"
      ],
      "text/plain": [
       "          date        user                                     title  \\\n",
       "0  Today 22:43  Dillon2019  RE: Any use to us folks here?Today 22:43   \n",
       "1  Today 22:41    JiffyBag  RE: Any use to us folks here?Today 22:41   \n",
       "2  Today 22:15   JackoDLad      Any use to us folks here?Today 22:15   \n",
       "3  Today 20:00      Tymers               RE: Naughty boysToday 20:00   \n",
       "4  Today 19:52      Tymers                    RE: ChoicesToday 19:52   \n",
       "\n",
       "                                             comment     opinion  \\\n",
       "0  This was on the BBC yesterday but I didnât c...  Strong Buy   \n",
       "1  Russiaâs Economy in Freefallhttps://www.yout...  No Opinion   \n",
       "2  Found the following on another board (EUA) and...  No Opinion   \n",
       "3  Speedy, like Hydro at some point will be corre...  Strong Buy   \n",
       "4  Choices is correct! Yet all comments are ones ...  Strong Buy   \n",
       "\n",
       "           price  \n",
       "0  Price:  13.10  \n",
       "1  Price:  13.10  \n",
       "2  Price:  13.10  \n",
       "3  Price:  13.10  \n",
       "4  Price:  13.10  "
      ]
     },
     "execution_count": 16,
     "metadata": {},
     "output_type": "execute_result"
    }
   ],
   "source": [
    "df.head()"
   ]
  },
  {
   "cell_type": "markdown",
   "metadata": {},
   "source": [
    "## Minor Cleaning"
   ]
  },
  {
   "cell_type": "code",
   "execution_count": 27,
   "metadata": {
    "ExecuteTime": {
     "end_time": "2022-03-29T23:52:52.052006Z",
     "start_time": "2022-03-29T23:52:52.039867Z"
    }
   },
   "outputs": [],
   "source": [
    "# drop previous, uncleaned title column\n",
    "df.drop(columns='Unnamed: 0', inplace=True)"
   ]
  },
  {
   "cell_type": "code",
   "execution_count": 28,
   "metadata": {
    "ExecuteTime": {
     "end_time": "2022-03-29T23:52:53.491077Z",
     "start_time": "2022-03-29T23:52:52.786428Z"
    }
   },
   "outputs": [],
   "source": [
    "# clean title column, removing the corresponding date info from the title\n",
    "df['title_clean'] = [df.loc[i,'title'].replace(df.loc[i,'date'],'') for i in range(0,len(df))]"
   ]
  },
  {
   "cell_type": "code",
   "execution_count": 29,
   "metadata": {
    "ExecuteTime": {
     "end_time": "2022-03-29T23:52:54.416099Z",
     "start_time": "2022-03-29T23:52:54.339756Z"
    }
   },
   "outputs": [],
   "source": [
    "# clean price column\n",
    "df['price'] = df.price.str.replace('Price:  ', '').astype(float)"
   ]
  },
  {
   "cell_type": "code",
   "execution_count": 30,
   "metadata": {
    "ExecuteTime": {
     "end_time": "2022-03-29T23:52:55.736850Z",
     "start_time": "2022-03-29T23:52:55.714407Z"
    }
   },
   "outputs": [],
   "source": [
    "# drop previous, uncleaned title column\n",
    "df.drop(columns='title', inplace=True)"
   ]
  },
  {
   "cell_type": "code",
   "execution_count": 31,
   "metadata": {
    "ExecuteTime": {
     "end_time": "2022-03-29T23:52:56.741683Z",
     "start_time": "2022-03-29T23:52:56.731496Z"
    }
   },
   "outputs": [],
   "source": [
    "# reshuffle columns to original layout\n",
    "df = df[['date', 'user', 'title_clean', 'comment', 'opinion', 'price']]"
   ]
  },
  {
   "cell_type": "code",
   "execution_count": 32,
   "metadata": {
    "ExecuteTime": {
     "end_time": "2022-03-29T23:52:57.583232Z",
     "start_time": "2022-03-29T23:52:57.578004Z"
    }
   },
   "outputs": [],
   "source": [
    "# rename title_clean column back to title\n",
    "df.columns = ['date', 'user', 'title', 'comment', 'opinion', 'price']"
   ]
  },
  {
   "cell_type": "code",
   "execution_count": 33,
   "metadata": {
    "ExecuteTime": {
     "end_time": "2022-03-29T23:52:58.601130Z",
     "start_time": "2022-03-29T23:52:58.583879Z"
    }
   },
   "outputs": [
    {
     "data": {
      "text/html": [
       "<div>\n",
       "<style scoped>\n",
       "    .dataframe tbody tr th:only-of-type {\n",
       "        vertical-align: middle;\n",
       "    }\n",
       "\n",
       "    .dataframe tbody tr th {\n",
       "        vertical-align: top;\n",
       "    }\n",
       "\n",
       "    .dataframe thead th {\n",
       "        text-align: right;\n",
       "    }\n",
       "</style>\n",
       "<table border=\"1\" class=\"dataframe\">\n",
       "  <thead>\n",
       "    <tr style=\"text-align: right;\">\n",
       "      <th></th>\n",
       "      <th>date</th>\n",
       "      <th>user</th>\n",
       "      <th>title</th>\n",
       "      <th>comment</th>\n",
       "      <th>opinion</th>\n",
       "      <th>price</th>\n",
       "    </tr>\n",
       "  </thead>\n",
       "  <tbody>\n",
       "    <tr>\n",
       "      <th>0</th>\n",
       "      <td>15 Dec '20</td>\n",
       "      <td>DGR1980</td>\n",
       "      <td>Good timing for it</td>\n",
       "      <td>Stroke of genius announcing the change in the ...</td>\n",
       "      <td>No Opinion</td>\n",
       "      <td>32.125</td>\n",
       "    </tr>\n",
       "    <tr>\n",
       "      <th>1</th>\n",
       "      <td>15 Dec '20</td>\n",
       "      <td>Quepensa</td>\n",
       "      <td>RE: GH</td>\n",
       "      <td>The King is dead, long live the King.We March ...</td>\n",
       "      <td>No Opinion</td>\n",
       "      <td>32.125</td>\n",
       "    </tr>\n",
       "    <tr>\n",
       "      <th>2</th>\n",
       "      <td>15 Dec '20</td>\n",
       "      <td>EnricoPallazzo</td>\n",
       "      <td>RE: Gervaise</td>\n",
       "      <td>How about that?GGP: Gervaise out, Shaun inNCM:...</td>\n",
       "      <td>Strong Buy</td>\n",
       "      <td>32.125</td>\n",
       "    </tr>\n",
       "    <tr>\n",
       "      <th>3</th>\n",
       "      <td>15 Dec '20</td>\n",
       "      <td>Jambo813</td>\n",
       "      <td>February</td>\n",
       "      <td>If GH is not allowed to retain his options the...</td>\n",
       "      <td>No Opinion</td>\n",
       "      <td>32.125</td>\n",
       "    </tr>\n",
       "    <tr>\n",
       "      <th>4</th>\n",
       "      <td>15 Dec '20</td>\n",
       "      <td>EnricoPallazzo</td>\n",
       "      <td>RE: Gervaise</td>\n",
       "      <td>We'll miss you, Gervaise! Can you let us know ...</td>\n",
       "      <td>Strong Buy</td>\n",
       "      <td>31.875</td>\n",
       "    </tr>\n",
       "  </tbody>\n",
       "</table>\n",
       "</div>"
      ],
      "text/plain": [
       "         date            user               title  \\\n",
       "0  15 Dec '20         DGR1980  Good timing for it   \n",
       "1  15 Dec '20        Quepensa              RE: GH   \n",
       "2  15 Dec '20  EnricoPallazzo        RE: Gervaise   \n",
       "3  15 Dec '20        Jambo813            February   \n",
       "4  15 Dec '20  EnricoPallazzo        RE: Gervaise   \n",
       "\n",
       "                                             comment     opinion   price  \n",
       "0  Stroke of genius announcing the change in the ...  No Opinion  32.125  \n",
       "1  The King is dead, long live the King.We March ...  No Opinion  32.125  \n",
       "2  How about that?GGP: Gervaise out, Shaun inNCM:...  Strong Buy  32.125  \n",
       "3  If GH is not allowed to retain his options the...  No Opinion  32.125  \n",
       "4  We'll miss you, Gervaise! Can you let us know ...  Strong Buy  31.875  "
      ]
     },
     "execution_count": 33,
     "metadata": {},
     "output_type": "execute_result"
    }
   ],
   "source": [
    "df.head()"
   ]
  },
  {
   "cell_type": "markdown",
   "metadata": {},
   "source": [
    "## Save cleaned scrape to csv"
   ]
  },
  {
   "cell_type": "markdown",
   "metadata": {},
   "source": [
    "insert scrape date into csv name"
   ]
  },
  {
   "cell_type": "code",
   "execution_count": 11,
   "metadata": {
    "ExecuteTime": {
     "end_time": "2022-03-29T23:50:10.887484Z",
     "start_time": "2022-03-29T23:50:10.880783Z"
    }
   },
   "outputs": [
    {
     "data": {
      "text/plain": [
       "'30-Mar-22'"
      ]
     },
     "execution_count": 11,
     "metadata": {},
     "output_type": "execute_result"
    }
   ],
   "source": [
    "today = datetime.today().strftime('%d-%b-%y')\n",
    "today"
   ]
  },
  {
   "cell_type": "code",
   "execution_count": 24,
   "metadata": {
    "ExecuteTime": {
     "end_time": "2022-03-29T23:34:09.503997Z",
     "start_time": "2022-03-29T23:34:09.358560Z"
    }
   },
   "outputs": [],
   "source": [
    "# save to csv\n",
    "# df.to_csv('../../../GA/Capstone/scrapes/scrape_{}.csv'.format(today), index=False)"
   ]
  }
 ],
 "metadata": {
  "kernelspec": {
   "display_name": "Python 3",
   "language": "python",
   "name": "python3"
  },
  "language_info": {
   "codemirror_mode": {
    "name": "ipython",
    "version": 3
   },
   "file_extension": ".py",
   "mimetype": "text/x-python",
   "name": "python",
   "nbconvert_exporter": "python",
   "pygments_lexer": "ipython3",
   "version": "3.7.6"
  },
  "toc": {
   "base_numbering": 1,
   "nav_menu": {},
   "number_sections": true,
   "sideBar": true,
   "skip_h1_title": false,
   "title_cell": "Table of Contents",
   "title_sidebar": "Contents",
   "toc_cell": false,
   "toc_position": {},
   "toc_section_display": true,
   "toc_window_display": false
  },
  "varInspector": {
   "cols": {
    "lenName": 16,
    "lenType": 16,
    "lenVar": 40
   },
   "kernels_config": {
    "python": {
     "delete_cmd_postfix": "",
     "delete_cmd_prefix": "del ",
     "library": "var_list.py",
     "varRefreshCmd": "print(var_dic_list())"
    },
    "r": {
     "delete_cmd_postfix": ") ",
     "delete_cmd_prefix": "rm(",
     "library": "var_list.r",
     "varRefreshCmd": "cat(var_dic_list()) "
    }
   },
   "types_to_exclude": [
    "module",
    "function",
    "builtin_function_or_method",
    "instance",
    "_Feature"
   ],
   "window_display": false
  }
 },
 "nbformat": 4,
 "nbformat_minor": 4
}
