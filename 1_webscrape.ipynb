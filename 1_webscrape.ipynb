{
 "cells": [
  {
   "cell_type": "markdown",
   "metadata": {},
   "source": [
    "# Webscrape"
   ]
  },
  {
   "cell_type": "markdown",
   "metadata": {},
   "source": [
    "### Import Packages"
   ]
  },
  {
   "cell_type": "code",
   "execution_count": 1,
   "metadata": {
    "ExecuteTime": {
     "end_time": "2022-03-22T18:39:33.425687Z",
     "start_time": "2022-03-22T18:39:32.308099Z"
    }
   },
   "outputs": [],
   "source": [
    "from random import randint\n",
    "from time import sleep\n",
    "import requests\n",
    "from bs4 import BeautifulSoup\n",
    "import numpy as np\n",
    "import pandas as pd\n",
    "from datetime import datetime"
   ]
  },
  {
   "cell_type": "markdown",
   "metadata": {},
   "source": [
    "## Scraping Script"
   ]
  },
  {
   "cell_type": "markdown",
   "metadata": {},
   "source": [
    "Scraping script below to be updated with appropriate first and large page paramters ahead of each scrape attempt. Script will do the following:\n",
    "- iterate through each page url with the page numbers between the first and last page parameters(int)\n",
    "- sleep for a random period of 2, 3 or 4 seconds. This step was introduced as good practise to avoid any issue that may arise from excessive page requests from a single url (ie captcha).\n",
    "- parse page html text\n",
    "- iterate through each of the page's 25 comments, grabbing the target html objects:\n",
    "    - date \n",
    "    - title \n",
    "    - comments \n",
    "    - content info (containing the user name, price and opion)\n",
    "- append each of the 25 comments attributes to the lists initialised at the start"
   ]
  },
  {
   "cell_type": "code",
   "execution_count": null,
   "metadata": {
    "ExecuteTime": {
     "end_time": "2022-03-22T16:41:47.933758Z",
     "start_time": "2022-03-22T16:41:47.923905Z"
    }
   },
   "outputs": [],
   "source": [
    "url = 'url'"
   ]
  },
  {
   "cell_type": "code",
   "execution_count": null,
   "metadata": {
    "ExecuteTime": {
     "end_time": "2022-03-22T18:31:10.292987Z",
     "start_time": "2022-03-22T18:31:07.125868Z"
    },
    "scrolled": false
   },
   "outputs": [],
   "source": [
    "date = []\n",
    "title = []\n",
    "comment = []\n",
    "user = []\n",
    "price = []\n",
    "opinion = []\n",
    "last_page = 10\n",
    "first_page = 1\n",
    "\n",
    "for page in list(range(first_page, last_page)):\n",
    "    sleep(randint(2,4))\n",
    "    r = requests.get(url.format(page))\n",
    "    pagesoup = BeautifulSoup(r.text, 'html.parser')\n",
    "    dates = [i.text for i in pagesoup.find_all(class_='share-chat-message__status-bar-time')]\n",
    "    titles = [i.text for i in pagesoup.find_all(class_='share-chat-message__status-bar')]\n",
    "    comments = [i.text for i in pagesoup.find_all(class_='share-chat-message__message-text')]\n",
    "    content_info = [i.text for i in pagesoup.find_all(class_='share-chat-message__content-info-box')]\n",
    "    \n",
    "    for d in dates:\n",
    "        date.append(d)\n",
    "    for t in titles:\n",
    "        title.append(t)\n",
    "    for c in comments:\n",
    "        comment.append(c)    \n",
    "    \n",
    "    for i in range(1, len(content_info), 3):\n",
    "        user.append(content_info[i-1])\n",
    "        price.append(content_info[i])\n",
    "        opinion.append(content_info[i+1])\n",
    "    \n",
    "    # if website presents captcha then end scrape and print message\n",
    "    \n",
    "    if pagesoup.find('title').text == 'Please Wait... | Cloudflare':\n",
    "        print('Captcha page indentified - datascrape ended')\n",
    "        print('Failed on page:', page)\n",
    "        print('Scraped Comments:', len(date))\n",
    "    break"
   ]
  },
  {
   "cell_type": "code",
   "execution_count": null,
   "metadata": {
    "ExecuteTime": {
     "end_time": "2022-03-22T16:44:06.130536Z",
     "start_time": "2022-03-22T16:44:06.122808Z"
    },
    "scrolled": true
   },
   "outputs": [],
   "source": [
    "# incase scrape script fails, see what has been scraped\n",
    "\n",
    "print(len(date))\n",
    "print(len(title))\n",
    "print(len(comment))\n",
    "print(len(user))\n",
    "print(len(price))\n",
    "print(len(opinion))"
   ]
  },
  {
   "cell_type": "code",
   "execution_count": null,
   "metadata": {},
   "outputs": [],
   "source": [
    "# create dataframe of lists generated in scrape script\n",
    "\n",
    "df = pd.DataFrame({'date':date, \n",
    "                   'user':user, \n",
    "                   'title':title, \n",
    "                   'comment':comment, \n",
    "                   'opinion':opinion, \n",
    "                   'price':price})"
   ]
  },
  {
   "cell_type": "code",
   "execution_count": 2,
   "metadata": {
    "ExecuteTime": {
     "end_time": "2022-03-22T18:40:07.142079Z",
     "start_time": "2022-03-22T18:40:07.060252Z"
    }
   },
   "outputs": [],
   "source": [
    "df = pd.read_csv('resources/scrape1.csv')"
   ]
  },
  {
   "cell_type": "code",
   "execution_count": 5,
   "metadata": {
    "ExecuteTime": {
     "end_time": "2022-03-22T18:40:30.246646Z",
     "start_time": "2022-03-22T18:40:30.228351Z"
    }
   },
   "outputs": [
    {
     "data": {
      "text/html": [
       "<div>\n",
       "<style scoped>\n",
       "    .dataframe tbody tr th:only-of-type {\n",
       "        vertical-align: middle;\n",
       "    }\n",
       "\n",
       "    .dataframe tbody tr th {\n",
       "        vertical-align: top;\n",
       "    }\n",
       "\n",
       "    .dataframe thead th {\n",
       "        text-align: right;\n",
       "    }\n",
       "</style>\n",
       "<table border=\"1\" class=\"dataframe\">\n",
       "  <thead>\n",
       "    <tr style=\"text-align: right;\">\n",
       "      <th></th>\n",
       "      <th>date</th>\n",
       "      <th>user</th>\n",
       "      <th>title</th>\n",
       "      <th>comment</th>\n",
       "      <th>opinion</th>\n",
       "      <th>price</th>\n",
       "    </tr>\n",
       "  </thead>\n",
       "  <tbody>\n",
       "    <tr>\n",
       "      <th>0</th>\n",
       "      <td>Today 23:55</td>\n",
       "      <td>JiffyBag</td>\n",
       "      <td>RE: SASToday 23:55</td>\n",
       "      <td>For me, it was just a fun exercise to do, and ...</td>\n",
       "      <td>No Opinion</td>\n",
       "      <td>Price:  13.80</td>\n",
       "    </tr>\n",
       "    <tr>\n",
       "      <th>1</th>\n",
       "      <td>Today 23:51</td>\n",
       "      <td>JiffyBag</td>\n",
       "      <td>RE: SASToday 23:51</td>\n",
       "      <td>Hi Walkabout,I fully acknoweldege your rationa...</td>\n",
       "      <td>No Opinion</td>\n",
       "      <td>Price:  13.80</td>\n",
       "    </tr>\n",
       "    <tr>\n",
       "      <th>2</th>\n",
       "      <td>Today 23:46</td>\n",
       "      <td>rosso123</td>\n",
       "      <td>Newcrest pulling a fast oneToday 23:46</td>\n",
       "      <td>NCM wants this 5% done and dusted asap, otherw...</td>\n",
       "      <td>No Opinion</td>\n",
       "      <td>Price:  13.80</td>\n",
       "    </tr>\n",
       "    <tr>\n",
       "      <th>3</th>\n",
       "      <td>Today 23:04</td>\n",
       "      <td>JiffyBag</td>\n",
       "      <td>RE: Why would u short thisToday 23:04</td>\n",
       "      <td>Merc,It would be fantastic if someone could ac...</td>\n",
       "      <td>No Opinion</td>\n",
       "      <td>Price:  13.80</td>\n",
       "    </tr>\n",
       "    <tr>\n",
       "      <th>4</th>\n",
       "      <td>Today 22:53</td>\n",
       "      <td>Philbrim</td>\n",
       "      <td>Ups n downs.Today 22:53</td>\n",
       "      <td>We go down 5% and most people are so volatile....</td>\n",
       "      <td>No Opinion</td>\n",
       "      <td>Price:  13.80</td>\n",
       "    </tr>\n",
       "  </tbody>\n",
       "</table>\n",
       "</div>"
      ],
      "text/plain": [
       "          date      user                                   title  \\\n",
       "0  Today 23:55  JiffyBag                      RE: SASToday 23:55   \n",
       "1  Today 23:51  JiffyBag                      RE: SASToday 23:51   \n",
       "2  Today 23:46  rosso123  Newcrest pulling a fast oneToday 23:46   \n",
       "3  Today 23:04  JiffyBag   RE: Why would u short thisToday 23:04   \n",
       "4  Today 22:53  Philbrim                 Ups n downs.Today 22:53   \n",
       "\n",
       "                                             comment     opinion  \\\n",
       "0  For me, it was just a fun exercise to do, and ...  No Opinion   \n",
       "1  Hi Walkabout,I fully acknoweldege your rationa...  No Opinion   \n",
       "2  NCM wants this 5% done and dusted asap, otherw...  No Opinion   \n",
       "3  Merc,It would be fantastic if someone could ac...  No Opinion   \n",
       "4  We go down 5% and most people are so volatile....  No Opinion   \n",
       "\n",
       "           price  \n",
       "0  Price:  13.80  \n",
       "1  Price:  13.80  \n",
       "2  Price:  13.80  \n",
       "3  Price:  13.80  \n",
       "4  Price:  13.80  "
      ]
     },
     "execution_count": 5,
     "metadata": {},
     "output_type": "execute_result"
    }
   ],
   "source": [
    "df.head()"
   ]
  },
  {
   "cell_type": "markdown",
   "metadata": {},
   "source": [
    "## Minor Cleaning"
   ]
  },
  {
   "cell_type": "code",
   "execution_count": 6,
   "metadata": {
    "ExecuteTime": {
     "end_time": "2022-03-22T18:40:34.185454Z",
     "start_time": "2022-03-22T18:40:33.972449Z"
    }
   },
   "outputs": [],
   "source": [
    "# clean title column, removing the corresponding date info from the title\n",
    "df['title_clean'] = [df.loc[i,'title'].replace(df.loc[i,'date'],'') for i in range(0,len(df))]"
   ]
  },
  {
   "cell_type": "code",
   "execution_count": 7,
   "metadata": {
    "ExecuteTime": {
     "end_time": "2022-03-22T18:40:34.925859Z",
     "start_time": "2022-03-22T18:40:34.898643Z"
    }
   },
   "outputs": [],
   "source": [
    "# clean price column\n",
    "df['price'] = df.price.str.replace('Price:  ', '').astype(float)"
   ]
  },
  {
   "cell_type": "code",
   "execution_count": 8,
   "metadata": {
    "ExecuteTime": {
     "end_time": "2022-03-22T18:40:38.111028Z",
     "start_time": "2022-03-22T18:40:38.099308Z"
    }
   },
   "outputs": [],
   "source": [
    "# drop previous, uncleaned title column\n",
    "df.drop(columns='title', inplace=True)"
   ]
  },
  {
   "cell_type": "code",
   "execution_count": 9,
   "metadata": {
    "ExecuteTime": {
     "end_time": "2022-03-22T18:40:39.899561Z",
     "start_time": "2022-03-22T18:40:39.890272Z"
    }
   },
   "outputs": [],
   "source": [
    "# reshuffle columns to original layout\n",
    "df = df[['date', 'user', 'title_clean', 'comment', 'opinion', 'price']]"
   ]
  },
  {
   "cell_type": "code",
   "execution_count": 10,
   "metadata": {
    "ExecuteTime": {
     "end_time": "2022-03-22T18:40:41.033324Z",
     "start_time": "2022-03-22T18:40:41.027170Z"
    }
   },
   "outputs": [],
   "source": [
    "# rename title_clean column back to title\n",
    "df.columns = ['date', 'user', 'title', 'comment', 'opinion', 'price']"
   ]
  },
  {
   "cell_type": "code",
   "execution_count": 11,
   "metadata": {
    "ExecuteTime": {
     "end_time": "2022-03-22T18:41:01.306233Z",
     "start_time": "2022-03-22T18:41:01.283743Z"
    }
   },
   "outputs": [
    {
     "data": {
      "text/html": [
       "<div>\n",
       "<style scoped>\n",
       "    .dataframe tbody tr th:only-of-type {\n",
       "        vertical-align: middle;\n",
       "    }\n",
       "\n",
       "    .dataframe tbody tr th {\n",
       "        vertical-align: top;\n",
       "    }\n",
       "\n",
       "    .dataframe thead th {\n",
       "        text-align: right;\n",
       "    }\n",
       "</style>\n",
       "<table border=\"1\" class=\"dataframe\">\n",
       "  <thead>\n",
       "    <tr style=\"text-align: right;\">\n",
       "      <th></th>\n",
       "      <th>date</th>\n",
       "      <th>user</th>\n",
       "      <th>title</th>\n",
       "      <th>comment</th>\n",
       "      <th>opinion</th>\n",
       "      <th>price</th>\n",
       "    </tr>\n",
       "  </thead>\n",
       "  <tbody>\n",
       "    <tr>\n",
       "      <th>0</th>\n",
       "      <td>Today 23:55</td>\n",
       "      <td>JiffyBag</td>\n",
       "      <td>RE: SAS</td>\n",
       "      <td>For me, it was just a fun exercise to do, and ...</td>\n",
       "      <td>No Opinion</td>\n",
       "      <td>13.8</td>\n",
       "    </tr>\n",
       "    <tr>\n",
       "      <th>1</th>\n",
       "      <td>Today 23:51</td>\n",
       "      <td>JiffyBag</td>\n",
       "      <td>RE: SAS</td>\n",
       "      <td>Hi Walkabout,I fully acknoweldege your rationa...</td>\n",
       "      <td>No Opinion</td>\n",
       "      <td>13.8</td>\n",
       "    </tr>\n",
       "    <tr>\n",
       "      <th>2</th>\n",
       "      <td>Today 23:46</td>\n",
       "      <td>rosso123</td>\n",
       "      <td>Newcrest pulling a fast one</td>\n",
       "      <td>NCM wants this 5% done and dusted asap, otherw...</td>\n",
       "      <td>No Opinion</td>\n",
       "      <td>13.8</td>\n",
       "    </tr>\n",
       "    <tr>\n",
       "      <th>3</th>\n",
       "      <td>Today 23:04</td>\n",
       "      <td>JiffyBag</td>\n",
       "      <td>RE: Why would u short this</td>\n",
       "      <td>Merc,It would be fantastic if someone could ac...</td>\n",
       "      <td>No Opinion</td>\n",
       "      <td>13.8</td>\n",
       "    </tr>\n",
       "    <tr>\n",
       "      <th>4</th>\n",
       "      <td>Today 22:53</td>\n",
       "      <td>Philbrim</td>\n",
       "      <td>Ups n downs.</td>\n",
       "      <td>We go down 5% and most people are so volatile....</td>\n",
       "      <td>No Opinion</td>\n",
       "      <td>13.8</td>\n",
       "    </tr>\n",
       "  </tbody>\n",
       "</table>\n",
       "</div>"
      ],
      "text/plain": [
       "          date      user                        title  \\\n",
       "0  Today 23:55  JiffyBag                      RE: SAS   \n",
       "1  Today 23:51  JiffyBag                      RE: SAS   \n",
       "2  Today 23:46  rosso123  Newcrest pulling a fast one   \n",
       "3  Today 23:04  JiffyBag   RE: Why would u short this   \n",
       "4  Today 22:53  Philbrim                 Ups n downs.   \n",
       "\n",
       "                                             comment     opinion  price  \n",
       "0  For me, it was just a fun exercise to do, and ...  No Opinion   13.8  \n",
       "1  Hi Walkabout,I fully acknoweldege your rationa...  No Opinion   13.8  \n",
       "2  NCM wants this 5% done and dusted asap, otherw...  No Opinion   13.8  \n",
       "3  Merc,It would be fantastic if someone could ac...  No Opinion   13.8  \n",
       "4  We go down 5% and most people are so volatile....  No Opinion   13.8  "
      ]
     },
     "execution_count": 11,
     "metadata": {},
     "output_type": "execute_result"
    }
   ],
   "source": [
    "df.head()"
   ]
  },
  {
   "cell_type": "markdown",
   "metadata": {},
   "source": [
    "## Save cleaned scrape to csv"
   ]
  },
  {
   "cell_type": "code",
   "execution_count": 12,
   "metadata": {
    "ExecuteTime": {
     "end_time": "2022-03-22T18:41:13.672276Z",
     "start_time": "2022-03-22T18:41:13.539733Z"
    }
   },
   "outputs": [],
   "source": [
    "# save to csv\n",
    "df.to_csv('resources/scrape1.csv', index=False)"
   ]
  }
 ],
 "metadata": {
  "kernelspec": {
   "display_name": "Python 3",
   "language": "python",
   "name": "python3"
  },
  "language_info": {
   "codemirror_mode": {
    "name": "ipython",
    "version": 3
   },
   "file_extension": ".py",
   "mimetype": "text/x-python",
   "name": "python",
   "nbconvert_exporter": "python",
   "pygments_lexer": "ipython3",
   "version": "3.7.6"
  },
  "toc": {
   "base_numbering": 1,
   "nav_menu": {},
   "number_sections": true,
   "sideBar": true,
   "skip_h1_title": false,
   "title_cell": "Table of Contents",
   "title_sidebar": "Contents",
   "toc_cell": false,
   "toc_position": {},
   "toc_section_display": true,
   "toc_window_display": false
  },
  "varInspector": {
   "cols": {
    "lenName": 16,
    "lenType": 16,
    "lenVar": 40
   },
   "kernels_config": {
    "python": {
     "delete_cmd_postfix": "",
     "delete_cmd_prefix": "del ",
     "library": "var_list.py",
     "varRefreshCmd": "print(var_dic_list())"
    },
    "r": {
     "delete_cmd_postfix": ") ",
     "delete_cmd_prefix": "rm(",
     "library": "var_list.r",
     "varRefreshCmd": "cat(var_dic_list()) "
    }
   },
   "types_to_exclude": [
    "module",
    "function",
    "builtin_function_or_method",
    "instance",
    "_Feature"
   ],
   "window_display": false
  }
 },
 "nbformat": 4,
 "nbformat_minor": 4
}
