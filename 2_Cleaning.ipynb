{
 "cells": [
  {
   "cell_type": "markdown",
   "metadata": {},
   "source": [
    "# Data Cleaning"
   ]
  },
  {
   "cell_type": "markdown",
   "metadata": {},
   "source": [
    "## Import Libraries and Load the data"
   ]
  },
  {
   "cell_type": "code",
   "execution_count": 115,
   "metadata": {
    "ExecuteTime": {
     "end_time": "2022-03-22T20:29:45.815980Z",
     "start_time": "2022-03-22T20:29:44.971077Z"
    }
   },
   "outputs": [],
   "source": [
    "import pandas as pd\n",
    "from datetime import datetime, timedelta\n",
    "import matplotlib.pyplot as plt\n",
    "import seaborn as sns\n",
    "import numpy as np\n",
    "import plotly.express as px\n",
    "import plotly.graph_objects as go\n",
    "import re\n",
    "from nltk.tokenize import RegexpTokenizer\n",
    "\n",
    "plt.style.use('fivethirtyeight')\n",
    "\n",
    "%config InlineBackend.figure_format = 'retina'\n",
    "%matplotlib inline\n",
    "np.set_printoptions(precision=4)"
   ]
  },
  {
   "cell_type": "code",
   "execution_count": 72,
   "metadata": {
    "ExecuteTime": {
     "end_time": "2022-03-22T19:47:56.365974Z",
     "start_time": "2022-03-22T19:47:56.286040Z"
    }
   },
   "outputs": [],
   "source": [
    "df = pd.read_csv('resources/scrape1.csv')"
   ]
  },
  {
   "cell_type": "code",
   "execution_count": 101,
   "metadata": {
    "ExecuteTime": {
     "end_time": "2022-03-22T20:01:46.309137Z",
     "start_time": "2022-03-22T20:01:46.288963Z"
    }
   },
   "outputs": [
    {
     "data": {
      "text/html": [
       "<div>\n",
       "<style scoped>\n",
       "    .dataframe tbody tr th:only-of-type {\n",
       "        vertical-align: middle;\n",
       "    }\n",
       "\n",
       "    .dataframe tbody tr th {\n",
       "        vertical-align: top;\n",
       "    }\n",
       "\n",
       "    .dataframe thead th {\n",
       "        text-align: right;\n",
       "    }\n",
       "</style>\n",
       "<table border=\"1\" class=\"dataframe\">\n",
       "  <thead>\n",
       "    <tr style=\"text-align: right;\">\n",
       "      <th></th>\n",
       "      <th>date</th>\n",
       "      <th>user</th>\n",
       "      <th>title</th>\n",
       "      <th>comment</th>\n",
       "      <th>opinion</th>\n",
       "      <th>price</th>\n",
       "      <th>datetime</th>\n",
       "    </tr>\n",
       "  </thead>\n",
       "  <tbody>\n",
       "    <tr>\n",
       "      <th>0</th>\n",
       "      <td>31 Jan 2022</td>\n",
       "      <td>JiffyBag</td>\n",
       "      <td>RE: SAS</td>\n",
       "      <td>For me, it was just a fun exercise to do, and ...</td>\n",
       "      <td>No Opinion</td>\n",
       "      <td>13.8</td>\n",
       "      <td>2022-01-31</td>\n",
       "    </tr>\n",
       "    <tr>\n",
       "      <th>1</th>\n",
       "      <td>31 Jan 2022</td>\n",
       "      <td>JiffyBag</td>\n",
       "      <td>RE: SAS</td>\n",
       "      <td>Hi Walkabout,I fully acknoweldege your rationa...</td>\n",
       "      <td>No Opinion</td>\n",
       "      <td>13.8</td>\n",
       "      <td>2022-01-31</td>\n",
       "    </tr>\n",
       "    <tr>\n",
       "      <th>2</th>\n",
       "      <td>31 Jan 2022</td>\n",
       "      <td>rosso123</td>\n",
       "      <td>Newcrest pulling a fast one</td>\n",
       "      <td>NCM wants this 5% done and dusted asap, otherw...</td>\n",
       "      <td>No Opinion</td>\n",
       "      <td>13.8</td>\n",
       "      <td>2022-01-31</td>\n",
       "    </tr>\n",
       "    <tr>\n",
       "      <th>3</th>\n",
       "      <td>31 Jan 2022</td>\n",
       "      <td>JiffyBag</td>\n",
       "      <td>RE: Why would u short this</td>\n",
       "      <td>Merc,It would be fantastic if someone could ac...</td>\n",
       "      <td>No Opinion</td>\n",
       "      <td>13.8</td>\n",
       "      <td>2022-01-31</td>\n",
       "    </tr>\n",
       "    <tr>\n",
       "      <th>4</th>\n",
       "      <td>31 Jan 2022</td>\n",
       "      <td>Philbrim</td>\n",
       "      <td>Ups n downs.</td>\n",
       "      <td>We go down 5% and most people are so volatile....</td>\n",
       "      <td>No Opinion</td>\n",
       "      <td>13.8</td>\n",
       "      <td>2022-01-31</td>\n",
       "    </tr>\n",
       "  </tbody>\n",
       "</table>\n",
       "</div>"
      ],
      "text/plain": [
       "          date      user                        title  \\\n",
       "0  31 Jan 2022  JiffyBag                      RE: SAS   \n",
       "1  31 Jan 2022  JiffyBag                      RE: SAS   \n",
       "2  31 Jan 2022  rosso123  Newcrest pulling a fast one   \n",
       "3  31 Jan 2022  JiffyBag   RE: Why would u short this   \n",
       "4  31 Jan 2022  Philbrim                 Ups n downs.   \n",
       "\n",
       "                                             comment     opinion  price  \\\n",
       "0  For me, it was just a fun exercise to do, and ...  No Opinion   13.8   \n",
       "1  Hi Walkabout,I fully acknoweldege your rationa...  No Opinion   13.8   \n",
       "2  NCM wants this 5% done and dusted asap, otherw...  No Opinion   13.8   \n",
       "3  Merc,It would be fantastic if someone could ac...  No Opinion   13.8   \n",
       "4  We go down 5% and most people are so volatile....  No Opinion   13.8   \n",
       "\n",
       "    datetime  \n",
       "0 2022-01-31  \n",
       "1 2022-01-31  \n",
       "2 2022-01-31  \n",
       "3 2022-01-31  \n",
       "4 2022-01-31  "
      ]
     },
     "execution_count": 101,
     "metadata": {},
     "output_type": "execute_result"
    }
   ],
   "source": [
    "df.head()"
   ]
  },
  {
   "cell_type": "markdown",
   "metadata": {},
   "source": [
    "## Data Cleaning"
   ]
  },
  {
   "cell_type": "markdown",
   "metadata": {},
   "source": [
    "### Date Column"
   ]
  },
  {
   "cell_type": "markdown",
   "metadata": {},
   "source": [
    "As the date column labels the current day (Today) and 5 previous days listed as the weekday only (the day of month is omitted), some pre-cleaning must be completed on csv scrapes that include the current day and 5 days prior to the current day, prior to concantenating to any other scrapes, to account for different scrape dates."
   ]
  },
  {
   "cell_type": "code",
   "execution_count": 4,
   "metadata": {
    "ExecuteTime": {
     "end_time": "2022-03-22T18:46:44.192183Z",
     "start_time": "2022-03-22T18:46:44.186885Z"
    }
   },
   "outputs": [],
   "source": [
    "weekdays = ['Mon', 'Tue', 'Wed', 'Thu', 'Fri', 'Sat', 'Sun', 'Today']"
   ]
  },
  {
   "cell_type": "code",
   "execution_count": 5,
   "metadata": {
    "ExecuteTime": {
     "end_time": "2022-03-22T18:46:45.952689Z",
     "start_time": "2022-03-22T18:46:45.864296Z"
    },
    "scrolled": true
   },
   "outputs": [
    {
     "name": "stdout",
     "output_type": "stream",
     "text": [
      "Mon 0\n",
      "Tue 0\n",
      "Wed 309\n",
      "Thu 282\n",
      "Fri 352\n",
      "Sat 96\n",
      "Sun 146\n",
      "Today 225\n"
     ]
    }
   ],
   "source": [
    "# view which days are in the format of Day, Time\n",
    "\n",
    "for weekday in weekdays:\n",
    "    print(weekday, len(df.loc[df['date'].str.contains(weekday)]))"
   ]
  },
  {
   "cell_type": "code",
   "execution_count": 6,
   "metadata": {
    "ExecuteTime": {
     "end_time": "2022-03-22T18:49:37.993583Z",
     "start_time": "2022-03-22T18:49:37.910388Z"
    }
   },
   "outputs": [
    {
     "data": {
      "text/plain": [
       "1410"
      ]
     },
     "execution_count": 6,
     "metadata": {},
     "output_type": "execute_result"
    }
   ],
   "source": [
    "# to access the first date in the format of day, month, year, work out how many are in the other format\n",
    "\n",
    "bad_format = 0\n",
    "for weekday in weekdays:\n",
    "    bad_format += len(df.loc[df['date'].str.contains(weekday)])\n",
    "\n",
    "bad_format"
   ]
  },
  {
   "cell_type": "code",
   "execution_count": 88,
   "metadata": {
    "ExecuteTime": {
     "end_time": "2022-03-22T19:56:17.533421Z",
     "start_time": "2022-03-22T19:56:17.525523Z"
    },
    "scrolled": true
   },
   "outputs": [
    {
     "data": {
      "text/plain": [
       "'25 Jan 2022'"
      ]
     },
     "execution_count": 88,
     "metadata": {},
     "output_type": "execute_result"
    }
   ],
   "source": [
    "# view the first date with the correct format\n",
    "# note when indexing with .loc, as the first line is 0 we dont need to add 1 to bad_format to view the proceding date\n",
    "\n",
    "pd.to_datetime(df.loc[bad_format, 'date']).strftime('%d %b %Y')"
   ]
  },
  {
   "cell_type": "code",
   "execution_count": 95,
   "metadata": {
    "ExecuteTime": {
     "end_time": "2022-03-22T20:01:08.913701Z",
     "start_time": "2022-03-22T20:01:08.905381Z"
    }
   },
   "outputs": [
    {
     "data": {
      "text/plain": [
       "'31 Jan 2022'"
      ]
     },
     "execution_count": 95,
     "metadata": {},
     "output_type": "execute_result"
    }
   ],
   "source": [
    "# calculate what day today is\n",
    "\n",
    "today = pd.to_datetime(df.loc[bad_format, 'date']) + timedelta(6)\n",
    "today.strftime('%d %b %Y')"
   ]
  },
  {
   "cell_type": "code",
   "execution_count": 96,
   "metadata": {
    "ExecuteTime": {
     "end_time": "2022-03-22T20:01:11.763435Z",
     "start_time": "2022-03-22T20:01:11.757860Z"
    }
   },
   "outputs": [],
   "source": [
    "# work out what the other bad format days correspond to\n",
    "today_m1 = today - timedelta(1)\n",
    "today_m2 = today - timedelta(2)\n",
    "today_m3 = today - timedelta(3)\n",
    "today_m4 = today - timedelta(4)\n",
    "today_m5 = today - timedelta(5)"
   ]
  },
  {
   "cell_type": "code",
   "execution_count": 97,
   "metadata": {
    "ExecuteTime": {
     "end_time": "2022-03-22T20:01:14.799250Z",
     "start_time": "2022-03-22T20:01:14.794053Z"
    }
   },
   "outputs": [],
   "source": [
    "# creat dict to map datetime.dayofweek to the bad format given in the csv\n",
    "week_dict = {0:'Mon',\n",
    "             1:'Tue',\n",
    "             2:'Wed',\n",
    "             3:'Thu',\n",
    "             4:'Fri',\n",
    "             5:'Sat',\n",
    "             6:'Sun'}"
   ]
  },
  {
   "cell_type": "code",
   "execution_count": 99,
   "metadata": {
    "ExecuteTime": {
     "end_time": "2022-03-22T20:01:24.226836Z",
     "start_time": "2022-03-22T20:01:24.152703Z"
    }
   },
   "outputs": [],
   "source": [
    "# modify the dates with the bad format to align with the rest of the dataframe\n",
    "\n",
    "df.loc[df['date'].str.contains('Today') ,'date'] = today.strftime('%d %b %Y')\n",
    "df.loc[df['date'].str.contains(week_dict[today_m1.dayofweek]) ,'date'] = today_m1.strftime('%d %b %Y')\n",
    "df.loc[df['date'].str.contains(week_dict[today_m2.dayofweek]) ,'date'] = today_m2.strftime('%d %b %Y')\n",
    "df.loc[df['date'].str.contains(week_dict[today_m3.dayofweek]) ,'date'] = today_m3.strftime('%d %b %Y')\n",
    "df.loc[df['date'].str.contains(week_dict[today_m4.dayofweek]) ,'date'] = today_m4.strftime('%d %b %Y')\n",
    "df.loc[df['date'].str.contains(week_dict[today_m5.dayofweek]) ,'date'] = today_m5.strftime('%d %b %Y')"
   ]
  },
  {
   "cell_type": "code",
   "execution_count": 102,
   "metadata": {
    "ExecuteTime": {
     "end_time": "2022-03-22T20:04:25.263813Z",
     "start_time": "2022-03-22T20:04:25.244352Z"
    }
   },
   "outputs": [
    {
     "data": {
      "text/html": [
       "<div>\n",
       "<style scoped>\n",
       "    .dataframe tbody tr th:only-of-type {\n",
       "        vertical-align: middle;\n",
       "    }\n",
       "\n",
       "    .dataframe tbody tr th {\n",
       "        vertical-align: top;\n",
       "    }\n",
       "\n",
       "    .dataframe thead th {\n",
       "        text-align: right;\n",
       "    }\n",
       "</style>\n",
       "<table border=\"1\" class=\"dataframe\">\n",
       "  <thead>\n",
       "    <tr style=\"text-align: right;\">\n",
       "      <th></th>\n",
       "      <th>date</th>\n",
       "      <th>user</th>\n",
       "      <th>title</th>\n",
       "      <th>comment</th>\n",
       "      <th>opinion</th>\n",
       "      <th>price</th>\n",
       "      <th>datetime</th>\n",
       "    </tr>\n",
       "  </thead>\n",
       "  <tbody>\n",
       "    <tr>\n",
       "      <th>0</th>\n",
       "      <td>31 Jan 2022</td>\n",
       "      <td>JiffyBag</td>\n",
       "      <td>RE: SAS</td>\n",
       "      <td>For me, it was just a fun exercise to do, and ...</td>\n",
       "      <td>No Opinion</td>\n",
       "      <td>13.8</td>\n",
       "      <td>2022-01-31</td>\n",
       "    </tr>\n",
       "    <tr>\n",
       "      <th>1</th>\n",
       "      <td>31 Jan 2022</td>\n",
       "      <td>JiffyBag</td>\n",
       "      <td>RE: SAS</td>\n",
       "      <td>Hi Walkabout,I fully acknoweldege your rationa...</td>\n",
       "      <td>No Opinion</td>\n",
       "      <td>13.8</td>\n",
       "      <td>2022-01-31</td>\n",
       "    </tr>\n",
       "    <tr>\n",
       "      <th>2</th>\n",
       "      <td>31 Jan 2022</td>\n",
       "      <td>rosso123</td>\n",
       "      <td>Newcrest pulling a fast one</td>\n",
       "      <td>NCM wants this 5% done and dusted asap, otherw...</td>\n",
       "      <td>No Opinion</td>\n",
       "      <td>13.8</td>\n",
       "      <td>2022-01-31</td>\n",
       "    </tr>\n",
       "    <tr>\n",
       "      <th>3</th>\n",
       "      <td>31 Jan 2022</td>\n",
       "      <td>JiffyBag</td>\n",
       "      <td>RE: Why would u short this</td>\n",
       "      <td>Merc,It would be fantastic if someone could ac...</td>\n",
       "      <td>No Opinion</td>\n",
       "      <td>13.8</td>\n",
       "      <td>2022-01-31</td>\n",
       "    </tr>\n",
       "    <tr>\n",
       "      <th>4</th>\n",
       "      <td>31 Jan 2022</td>\n",
       "      <td>Philbrim</td>\n",
       "      <td>Ups n downs.</td>\n",
       "      <td>We go down 5% and most people are so volatile....</td>\n",
       "      <td>No Opinion</td>\n",
       "      <td>13.8</td>\n",
       "      <td>2022-01-31</td>\n",
       "    </tr>\n",
       "  </tbody>\n",
       "</table>\n",
       "</div>"
      ],
      "text/plain": [
       "          date      user                        title  \\\n",
       "0  31 Jan 2022  JiffyBag                      RE: SAS   \n",
       "1  31 Jan 2022  JiffyBag                      RE: SAS   \n",
       "2  31 Jan 2022  rosso123  Newcrest pulling a fast one   \n",
       "3  31 Jan 2022  JiffyBag   RE: Why would u short this   \n",
       "4  31 Jan 2022  Philbrim                 Ups n downs.   \n",
       "\n",
       "                                             comment     opinion  price  \\\n",
       "0  For me, it was just a fun exercise to do, and ...  No Opinion   13.8   \n",
       "1  Hi Walkabout,I fully acknoweldege your rationa...  No Opinion   13.8   \n",
       "2  NCM wants this 5% done and dusted asap, otherw...  No Opinion   13.8   \n",
       "3  Merc,It would be fantastic if someone could ac...  No Opinion   13.8   \n",
       "4  We go down 5% and most people are so volatile....  No Opinion   13.8   \n",
       "\n",
       "    datetime  \n",
       "0 2022-01-31  \n",
       "1 2022-01-31  \n",
       "2 2022-01-31  \n",
       "3 2022-01-31  \n",
       "4 2022-01-31  "
      ]
     },
     "execution_count": 102,
     "metadata": {},
     "output_type": "execute_result"
    }
   ],
   "source": [
    "df.head()"
   ]
  },
  {
   "cell_type": "markdown",
   "metadata": {},
   "source": [
    "### comment field"
   ]
  },
  {
   "cell_type": "code",
   "execution_count": 109,
   "metadata": {
    "ExecuteTime": {
     "end_time": "2022-03-22T20:06:20.198640Z",
     "start_time": "2022-03-22T20:06:20.192466Z"
    }
   },
   "outputs": [
    {
     "data": {
      "text/plain": [
       "\"On average, they expect Greatland Gold's stock price to reach GBX 24.50 in the next twelve months. This suggests a possible upside of 73.8% from the stock's current price.73.8% ?You donâ\\x80\\x99t get that down Barclays or hsbc!!And a lot think thatâ\\x80\\x99s very conservative\""
      ]
     },
     "execution_count": 109,
     "metadata": {},
     "output_type": "execute_result"
    }
   ],
   "source": [
    "df.comment[20]"
   ]
  },
  {
   "cell_type": "markdown",
   "metadata": {},
   "source": [
    "Prior to any NLP work it will be neccessary to remove any bad text encoding information from the comments field. At this stage we wont be looking to tokenize the data, rather to remove special characters and numbers"
   ]
  },
  {
   "cell_type": "code",
   "execution_count": 110,
   "metadata": {
    "ExecuteTime": {
     "end_time": "2022-03-22T20:17:28.701871Z",
     "start_time": "2022-03-22T20:17:28.611958Z"
    }
   },
   "outputs": [
    {
     "data": {
      "text/html": [
       "<div>\n",
       "<style scoped>\n",
       "    .dataframe tbody tr th:only-of-type {\n",
       "        vertical-align: middle;\n",
       "    }\n",
       "\n",
       "    .dataframe tbody tr th {\n",
       "        vertical-align: top;\n",
       "    }\n",
       "\n",
       "    .dataframe thead th {\n",
       "        text-align: right;\n",
       "    }\n",
       "</style>\n",
       "<table border=\"1\" class=\"dataframe\">\n",
       "  <thead>\n",
       "    <tr style=\"text-align: right;\">\n",
       "      <th></th>\n",
       "      <th>date</th>\n",
       "      <th>user</th>\n",
       "      <th>title</th>\n",
       "      <th>comment</th>\n",
       "      <th>opinion</th>\n",
       "      <th>price</th>\n",
       "      <th>datetime</th>\n",
       "    </tr>\n",
       "  </thead>\n",
       "  <tbody>\n",
       "  </tbody>\n",
       "</table>\n",
       "</div>"
      ],
      "text/plain": [
       "Empty DataFrame\n",
       "Columns: [date, user, title, comment, opinion, price, datetime]\n",
       "Index: []"
      ]
     },
     "execution_count": 110,
     "metadata": {},
     "output_type": "execute_result"
    }
   ],
   "source": [
    "# see if there are any null rows in the data set\n",
    "df[df.isnull().sum(axis=1)>0]"
   ]
  },
  {
   "cell_type": "code",
   "execution_count": 111,
   "metadata": {
    "ExecuteTime": {
     "end_time": "2022-03-22T20:28:17.200971Z",
     "start_time": "2022-03-22T20:28:17.189271Z"
    }
   },
   "outputs": [],
   "source": [
    "# this function will be used to process the comments into a clean comment column\n",
    "# clean comment columns will be more workable for NLP\n",
    "\n",
    "def text_clean(text):\n",
    "    # string text\n",
    "    st = str(text)\n",
    "    \n",
    "    # make lowercase\n",
    "    lc = st.lower()\n",
    "    \n",
    "    # remove any web addresses\n",
    "    rem_url = re.sub(r'http\\S+', '', lc)\n",
    "    \n",
    "    # remove any special characters\n",
    "    rem_char = re.sub(r'[^a-z ]+', '', rem_url)\n",
    "    \n",
    "    # remove whitespace\n",
    "    rem_ws = re.sub('\\s\\s+', ' ', rem_char)\n",
    "    \n",
    "    # tokenize words\n",
    "    tokenizer = RegexpTokenizer(r'\\w+')\n",
    "    tokens = tokenizer.tokenize(rem_ws)\n",
    "    \n",
    "    # remove any words with 2 characters or less\n",
    "    filtered_words = [w for w in tokens if len(w) > 2]\n",
    "    \n",
    "    # return tokens rejoined into a string\n",
    "    return ' '.join(filtered_words)"
   ]
  },
  {
   "cell_type": "code",
   "execution_count": 116,
   "metadata": {
    "ExecuteTime": {
     "end_time": "2022-03-22T20:29:50.529983Z",
     "start_time": "2022-03-22T20:29:50.113920Z"
    }
   },
   "outputs": [],
   "source": [
    "df['comment_clean'] = df['comment'].map(lambda x: text_clean(x))"
   ]
  },
  {
   "cell_type": "code",
   "execution_count": 137,
   "metadata": {
    "ExecuteTime": {
     "end_time": "2022-03-22T23:54:58.860287Z",
     "start_time": "2022-03-22T23:54:58.830786Z"
    }
   },
   "outputs": [
    {
     "data": {
      "text/html": [
       "<div>\n",
       "<style scoped>\n",
       "    .dataframe tbody tr th:only-of-type {\n",
       "        vertical-align: middle;\n",
       "    }\n",
       "\n",
       "    .dataframe tbody tr th {\n",
       "        vertical-align: top;\n",
       "    }\n",
       "\n",
       "    .dataframe thead th {\n",
       "        text-align: right;\n",
       "    }\n",
       "</style>\n",
       "<table border=\"1\" class=\"dataframe\">\n",
       "  <thead>\n",
       "    <tr style=\"text-align: right;\">\n",
       "      <th></th>\n",
       "      <th>date</th>\n",
       "      <th>user</th>\n",
       "      <th>title</th>\n",
       "      <th>comment</th>\n",
       "      <th>opinion</th>\n",
       "      <th>price</th>\n",
       "      <th>datetime</th>\n",
       "      <th>comment_clean</th>\n",
       "    </tr>\n",
       "  </thead>\n",
       "  <tbody>\n",
       "    <tr>\n",
       "      <th>0</th>\n",
       "      <td>31 Jan 2022</td>\n",
       "      <td>JiffyBag</td>\n",
       "      <td>RE: SAS</td>\n",
       "      <td>For me, it was just a fun exercise to do, and ...</td>\n",
       "      <td>No Opinion</td>\n",
       "      <td>13.8</td>\n",
       "      <td>2022-01-31</td>\n",
       "      <td>for was just fun exercise and will have see wh...</td>\n",
       "    </tr>\n",
       "    <tr>\n",
       "      <th>1</th>\n",
       "      <td>31 Jan 2022</td>\n",
       "      <td>JiffyBag</td>\n",
       "      <td>RE: SAS</td>\n",
       "      <td>Hi Walkabout,I fully acknoweldege your rationa...</td>\n",
       "      <td>No Opinion</td>\n",
       "      <td>13.8</td>\n",
       "      <td>2022-01-31</td>\n",
       "      <td>walkabouti fully acknoweldege your rationale e...</td>\n",
       "    </tr>\n",
       "    <tr>\n",
       "      <th>2</th>\n",
       "      <td>31 Jan 2022</td>\n",
       "      <td>rosso123</td>\n",
       "      <td>Newcrest pulling a fast one</td>\n",
       "      <td>NCM wants this 5% done and dusted asap, otherw...</td>\n",
       "      <td>No Opinion</td>\n",
       "      <td>13.8</td>\n",
       "      <td>2022-01-31</td>\n",
       "      <td>ncm wants this done and dusted asap otherwise ...</td>\n",
       "    </tr>\n",
       "    <tr>\n",
       "      <th>3</th>\n",
       "      <td>31 Jan 2022</td>\n",
       "      <td>JiffyBag</td>\n",
       "      <td>RE: Why would u short this</td>\n",
       "      <td>Merc,It would be fantastic if someone could ac...</td>\n",
       "      <td>No Opinion</td>\n",
       "      <td>13.8</td>\n",
       "      <td>2022-01-31</td>\n",
       "      <td>mercit would fantastic someone could actually ...</td>\n",
       "    </tr>\n",
       "    <tr>\n",
       "      <th>4</th>\n",
       "      <td>31 Jan 2022</td>\n",
       "      <td>Philbrim</td>\n",
       "      <td>Ups n downs.</td>\n",
       "      <td>We go down 5% and most people are so volatile....</td>\n",
       "      <td>No Opinion</td>\n",
       "      <td>13.8</td>\n",
       "      <td>2022-01-31</td>\n",
       "      <td>down and most people are volatile and everyone...</td>\n",
       "    </tr>\n",
       "  </tbody>\n",
       "</table>\n",
       "</div>"
      ],
      "text/plain": [
       "          date      user                        title  \\\n",
       "0  31 Jan 2022  JiffyBag                      RE: SAS   \n",
       "1  31 Jan 2022  JiffyBag                      RE: SAS   \n",
       "2  31 Jan 2022  rosso123  Newcrest pulling a fast one   \n",
       "3  31 Jan 2022  JiffyBag   RE: Why would u short this   \n",
       "4  31 Jan 2022  Philbrim                 Ups n downs.   \n",
       "\n",
       "                                             comment     opinion  price  \\\n",
       "0  For me, it was just a fun exercise to do, and ...  No Opinion   13.8   \n",
       "1  Hi Walkabout,I fully acknoweldege your rationa...  No Opinion   13.8   \n",
       "2  NCM wants this 5% done and dusted asap, otherw...  No Opinion   13.8   \n",
       "3  Merc,It would be fantastic if someone could ac...  No Opinion   13.8   \n",
       "4  We go down 5% and most people are so volatile....  No Opinion   13.8   \n",
       "\n",
       "    datetime                                      comment_clean  \n",
       "0 2022-01-31  for was just fun exercise and will have see wh...  \n",
       "1 2022-01-31  walkabouti fully acknoweldege your rationale e...  \n",
       "2 2022-01-31  ncm wants this done and dusted asap otherwise ...  \n",
       "3 2022-01-31  mercit would fantastic someone could actually ...  \n",
       "4 2022-01-31  down and most people are volatile and everyone...  "
      ]
     },
     "execution_count": 137,
     "metadata": {},
     "output_type": "execute_result"
    }
   ],
   "source": [
    "df.head()"
   ]
  },
  {
   "cell_type": "code",
   "execution_count": 142,
   "metadata": {
    "ExecuteTime": {
     "end_time": "2022-03-22T23:56:21.185412Z",
     "start_time": "2022-03-22T23:56:21.161995Z"
    }
   },
   "outputs": [
    {
     "data": {
      "text/html": [
       "<div>\n",
       "<style scoped>\n",
       "    .dataframe tbody tr th:only-of-type {\n",
       "        vertical-align: middle;\n",
       "    }\n",
       "\n",
       "    .dataframe tbody tr th {\n",
       "        vertical-align: top;\n",
       "    }\n",
       "\n",
       "    .dataframe thead th {\n",
       "        text-align: right;\n",
       "    }\n",
       "</style>\n",
       "<table border=\"1\" class=\"dataframe\">\n",
       "  <thead>\n",
       "    <tr style=\"text-align: right;\">\n",
       "      <th></th>\n",
       "      <th>date</th>\n",
       "      <th>user</th>\n",
       "      <th>title</th>\n",
       "      <th>comment</th>\n",
       "      <th>opinion</th>\n",
       "      <th>price</th>\n",
       "      <th>datetime</th>\n",
       "      <th>comment_clean</th>\n",
       "    </tr>\n",
       "  </thead>\n",
       "  <tbody>\n",
       "  </tbody>\n",
       "</table>\n",
       "</div>"
      ],
      "text/plain": [
       "Empty DataFrame\n",
       "Columns: [date, user, title, comment, opinion, price, datetime, comment_clean]\n",
       "Index: []"
      ]
     },
     "execution_count": 142,
     "metadata": {},
     "output_type": "execute_result"
    }
   ],
   "source": [
    "# see if there are any null rows in the data set\n",
    "df[df.isnull().sum(axis=1)>0]"
   ]
  },
  {
   "cell_type": "code",
   "execution_count": 139,
   "metadata": {
    "ExecuteTime": {
     "end_time": "2022-03-22T23:55:37.673070Z",
     "start_time": "2022-03-22T23:55:37.648297Z"
    }
   },
   "outputs": [],
   "source": [
    "# drop any nul rows if neccessary\n",
    "df.dropna(inplace=True)"
   ]
  },
  {
   "cell_type": "markdown",
   "metadata": {},
   "source": [
    "## Export to csv"
   ]
  },
  {
   "cell_type": "code",
   "execution_count": 134,
   "metadata": {
    "ExecuteTime": {
     "end_time": "2022-03-22T21:01:42.215239Z",
     "start_time": "2022-03-22T21:01:41.973707Z"
    }
   },
   "outputs": [],
   "source": [
    "# save to csv\n",
    "df.to_csv('resources/scrape1_clean.csv', index=False)"
   ]
  },
  {
   "cell_type": "markdown",
   "metadata": {},
   "source": [
    "## NLP EDA"
   ]
  },
  {
   "cell_type": "markdown",
   "metadata": {},
   "source": [
    "### Import NLP Packages"
   ]
  },
  {
   "cell_type": "code",
   "execution_count": null,
   "metadata": {
    "ExecuteTime": {
     "end_time": "2022-03-18T19:58:28.884524Z",
     "start_time": "2022-03-18T19:58:25.026080Z"
    }
   },
   "outputs": [],
   "source": [
    "import nltk\n",
    "from nltk.tokenize import RegexpTokenizer, word_tokenize, sent_tokenize\n",
    "from sklearn.feature_extraction.text import CountVectorizer, TfidfVectorizer\n",
    "from nltk.corpus import stopwords\n",
    "from nltk.text import Text\n",
    "import re\n",
    "from sklearn.linear_model import LogisticRegression\n",
    "from sklearn.pipeline import make_pipeline\n",
    "from sklearn.model_selection import cross_val_score\n",
    "from sklearn.model_selection import train_test_split\n",
    "from sklearn.preprocessing import StandardScaler\n",
    "from sklearn.ensemble import RandomForestClassifier\n",
    "from sklearn.metrics import plot_confusion_matrix, precision_score, classification_report\n",
    "\n",
    "\n",
    "tokenizer = RegexpTokenizer(r'\\w+')"
   ]
  }
 ],
 "metadata": {
  "kernelspec": {
   "display_name": "Python 3",
   "language": "python",
   "name": "python3"
  },
  "language_info": {
   "codemirror_mode": {
    "name": "ipython",
    "version": 3
   },
   "file_extension": ".py",
   "mimetype": "text/x-python",
   "name": "python",
   "nbconvert_exporter": "python",
   "pygments_lexer": "ipython3",
   "version": "3.7.6"
  },
  "toc": {
   "base_numbering": 1,
   "nav_menu": {},
   "number_sections": true,
   "sideBar": true,
   "skip_h1_title": false,
   "title_cell": "Table of Contents",
   "title_sidebar": "Contents",
   "toc_cell": false,
   "toc_position": {
    "height": "calc(100% - 180px)",
    "left": "10px",
    "top": "150px",
    "width": "165px"
   },
   "toc_section_display": true,
   "toc_window_display": true
  },
  "varInspector": {
   "cols": {
    "lenName": 16,
    "lenType": 16,
    "lenVar": 40
   },
   "kernels_config": {
    "python": {
     "delete_cmd_postfix": "",
     "delete_cmd_prefix": "del ",
     "library": "var_list.py",
     "varRefreshCmd": "print(var_dic_list())"
    },
    "r": {
     "delete_cmd_postfix": ") ",
     "delete_cmd_prefix": "rm(",
     "library": "var_list.r",
     "varRefreshCmd": "cat(var_dic_list()) "
    }
   },
   "types_to_exclude": [
    "module",
    "function",
    "builtin_function_or_method",
    "instance",
    "_Feature"
   ],
   "window_display": false
  }
 },
 "nbformat": 4,
 "nbformat_minor": 4
}
