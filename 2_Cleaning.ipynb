{
 "cells": [
  {
   "cell_type": "markdown",
   "metadata": {},
   "source": [
    "# Data Cleaning"
   ]
  },
  {
   "cell_type": "markdown",
   "metadata": {},
   "source": [
    "## Import Libraries and Load the data"
   ]
  },
  {
   "cell_type": "code",
   "execution_count": 1,
   "metadata": {
    "ExecuteTime": {
     "end_time": "2022-03-29T23:56:32.758143Z",
     "start_time": "2022-03-29T23:56:28.344880Z"
    }
   },
   "outputs": [],
   "source": [
    "import pandas as pd\n",
    "from datetime import datetime, timedelta\n",
    "import matplotlib.pyplot as plt\n",
    "import seaborn as sns\n",
    "import numpy as np\n",
    "import plotly.express as px\n",
    "import plotly.graph_objects as go\n",
    "import re\n",
    "from nltk.tokenize import RegexpTokenizer\n",
    "\n",
    "plt.style.use('fivethirtyeight')\n",
    "\n",
    "%config InlineBackend.figure_format = 'retina'\n",
    "%matplotlib inline\n",
    "np.set_printoptions(precision=4)"
   ]
  },
  {
   "cell_type": "code",
   "execution_count": 28,
   "metadata": {
    "ExecuteTime": {
     "end_time": "2022-03-30T00:03:17.080206Z",
     "start_time": "2022-03-30T00:03:17.004759Z"
    }
   },
   "outputs": [],
   "source": [
    "df = pd.read_csv('../../../GA/Capstone/scrapes/scrape_30-Mar-22.csv')"
   ]
  },
  {
   "cell_type": "code",
   "execution_count": 29,
   "metadata": {
    "ExecuteTime": {
     "end_time": "2022-03-30T00:03:17.849633Z",
     "start_time": "2022-03-30T00:03:17.834185Z"
    }
   },
   "outputs": [
    {
     "data": {
      "text/html": [
       "<div>\n",
       "<style scoped>\n",
       "    .dataframe tbody tr th:only-of-type {\n",
       "        vertical-align: middle;\n",
       "    }\n",
       "\n",
       "    .dataframe tbody tr th {\n",
       "        vertical-align: top;\n",
       "    }\n",
       "\n",
       "    .dataframe thead th {\n",
       "        text-align: right;\n",
       "    }\n",
       "</style>\n",
       "<table border=\"1\" class=\"dataframe\">\n",
       "  <thead>\n",
       "    <tr style=\"text-align: right;\">\n",
       "      <th></th>\n",
       "      <th>date</th>\n",
       "      <th>user</th>\n",
       "      <th>title</th>\n",
       "      <th>comment</th>\n",
       "      <th>opinion</th>\n",
       "      <th>price</th>\n",
       "    </tr>\n",
       "  </thead>\n",
       "  <tbody>\n",
       "    <tr>\n",
       "      <th>0</th>\n",
       "      <td>Today 22:43</td>\n",
       "      <td>Dillon2019</td>\n",
       "      <td>RE: Any use to us folks here?</td>\n",
       "      <td>This was on the BBC yesterday but I didnât c...</td>\n",
       "      <td>Strong Buy</td>\n",
       "      <td>13.1</td>\n",
       "    </tr>\n",
       "    <tr>\n",
       "      <th>1</th>\n",
       "      <td>Today 22:41</td>\n",
       "      <td>JiffyBag</td>\n",
       "      <td>RE: Any use to us folks here?</td>\n",
       "      <td>Russiaâs Economy in Freefallhttps://www.yout...</td>\n",
       "      <td>No Opinion</td>\n",
       "      <td>13.1</td>\n",
       "    </tr>\n",
       "    <tr>\n",
       "      <th>2</th>\n",
       "      <td>Today 22:15</td>\n",
       "      <td>JackoDLad</td>\n",
       "      <td>Any use to us folks here?</td>\n",
       "      <td>Found the following on another board (EUA) and...</td>\n",
       "      <td>No Opinion</td>\n",
       "      <td>13.1</td>\n",
       "    </tr>\n",
       "    <tr>\n",
       "      <th>3</th>\n",
       "      <td>Today 20:00</td>\n",
       "      <td>Tymers</td>\n",
       "      <td>RE: Naughty boys</td>\n",
       "      <td>Speedy, like Hydro at some point will be corre...</td>\n",
       "      <td>Strong Buy</td>\n",
       "      <td>13.1</td>\n",
       "    </tr>\n",
       "    <tr>\n",
       "      <th>4</th>\n",
       "      <td>Today 19:52</td>\n",
       "      <td>Tymers</td>\n",
       "      <td>RE: Choices</td>\n",
       "      <td>Choices is correct! Yet all comments are ones ...</td>\n",
       "      <td>Strong Buy</td>\n",
       "      <td>13.1</td>\n",
       "    </tr>\n",
       "  </tbody>\n",
       "</table>\n",
       "</div>"
      ],
      "text/plain": [
       "          date        user                          title  \\\n",
       "0  Today 22:43  Dillon2019  RE: Any use to us folks here?   \n",
       "1  Today 22:41    JiffyBag  RE: Any use to us folks here?   \n",
       "2  Today 22:15   JackoDLad      Any use to us folks here?   \n",
       "3  Today 20:00      Tymers               RE: Naughty boys   \n",
       "4  Today 19:52      Tymers                    RE: Choices   \n",
       "\n",
       "                                             comment     opinion  price  \n",
       "0  This was on the BBC yesterday but I didnât c...  Strong Buy   13.1  \n",
       "1  Russiaâs Economy in Freefallhttps://www.yout...  No Opinion   13.1  \n",
       "2  Found the following on another board (EUA) and...  No Opinion   13.1  \n",
       "3  Speedy, like Hydro at some point will be corre...  Strong Buy   13.1  \n",
       "4  Choices is correct! Yet all comments are ones ...  Strong Buy   13.1  "
      ]
     },
     "execution_count": 29,
     "metadata": {},
     "output_type": "execute_result"
    }
   ],
   "source": [
    "df.head()"
   ]
  },
  {
   "cell_type": "markdown",
   "metadata": {},
   "source": [
    "## Data Cleaning"
   ]
  },
  {
   "cell_type": "markdown",
   "metadata": {},
   "source": [
    "### Date Column"
   ]
  },
  {
   "cell_type": "markdown",
   "metadata": {},
   "source": [
    "As the date column labels the current day (Today) and 5 previous days listed as the weekday only (the day of month is omitted), some pre-cleaning must be completed on csv scrapes that include the current day and 5 days prior to the current day, prior to concantenating to any other scrapes, to account for different scrape dates."
   ]
  },
  {
   "cell_type": "code",
   "execution_count": 30,
   "metadata": {
    "ExecuteTime": {
     "end_time": "2022-03-30T00:03:26.218997Z",
     "start_time": "2022-03-30T00:03:26.213897Z"
    }
   },
   "outputs": [],
   "source": [
    "weekdays = ['Mon', 'Tue', 'Wed', 'Thu', 'Fri', 'Sat', 'Sun', 'Today']"
   ]
  },
  {
   "cell_type": "code",
   "execution_count": 31,
   "metadata": {
    "ExecuteTime": {
     "end_time": "2022-03-30T00:03:26.935948Z",
     "start_time": "2022-03-30T00:03:26.852620Z"
    },
    "scrolled": true
   },
   "outputs": [
    {
     "name": "stdout",
     "output_type": "stream",
     "text": [
      "Mon 118\n",
      "Tue 0\n",
      "Wed 184\n",
      "Thu 88\n",
      "Fri 125\n",
      "Sat 45\n",
      "Sun 23\n",
      "Today 110\n"
     ]
    }
   ],
   "source": [
    "# view which days are in the format of Day, Time\n",
    "\n",
    "for weekday in weekdays:\n",
    "    print(weekday, len(df.loc[df['date'].str.contains(weekday)]))"
   ]
  },
  {
   "cell_type": "code",
   "execution_count": 32,
   "metadata": {
    "ExecuteTime": {
     "end_time": "2022-03-30T00:07:44.500570Z",
     "start_time": "2022-03-30T00:07:44.422398Z"
    }
   },
   "outputs": [
    {
     "data": {
      "text/plain": [
       "693"
      ]
     },
     "execution_count": 32,
     "metadata": {},
     "output_type": "execute_result"
    }
   ],
   "source": [
    "# to access the first date in the format of day, month, year, work out how many are in the other format\n",
    "\n",
    "bad_format = 0\n",
    "for weekday in weekdays:\n",
    "    bad_format += len(df.loc[df['date'].str.contains(weekday)])\n",
    "\n",
    "bad_format"
   ]
  },
  {
   "cell_type": "code",
   "execution_count": 33,
   "metadata": {
    "ExecuteTime": {
     "end_time": "2022-03-30T00:07:48.948562Z",
     "start_time": "2022-03-30T00:07:48.940108Z"
    },
    "scrolled": true
   },
   "outputs": [
    {
     "data": {
      "text/plain": [
       "'22 Mar 2022'"
      ]
     },
     "execution_count": 33,
     "metadata": {},
     "output_type": "execute_result"
    }
   ],
   "source": [
    "# view the first date with the correct format\n",
    "# note when indexing with .loc, as the first line is 0 we dont need to add 1 to bad_format to view the proceding date\n",
    "\n",
    "pd.to_datetime(df.loc[bad_format, 'date']).strftime('%d %b %Y')"
   ]
  },
  {
   "cell_type": "code",
   "execution_count": 35,
   "metadata": {
    "ExecuteTime": {
     "end_time": "2022-03-30T00:08:06.139645Z",
     "start_time": "2022-03-30T00:08:06.131643Z"
    }
   },
   "outputs": [
    {
     "data": {
      "text/plain": [
       "'29 Mar 2022'"
      ]
     },
     "execution_count": 35,
     "metadata": {},
     "output_type": "execute_result"
    }
   ],
   "source": [
    "# calculate what day today is\n",
    "\n",
    "today = pd.to_datetime(df.loc[bad_format, 'date']) + timedelta(7)\n",
    "today.strftime('%d %b %Y')"
   ]
  },
  {
   "cell_type": "code",
   "execution_count": 37,
   "metadata": {
    "ExecuteTime": {
     "end_time": "2022-03-30T00:09:50.442995Z",
     "start_time": "2022-03-30T00:09:50.435955Z"
    }
   },
   "outputs": [],
   "source": [
    "# work out what the other bad format days correspond to\n",
    "today_m1 = today - timedelta(1)\n",
    "today_m2 = today - timedelta(2)\n",
    "today_m3 = today - timedelta(3)\n",
    "today_m4 = today - timedelta(4)\n",
    "today_m5 = today - timedelta(5)\n",
    "today_m6 = today - timedelta(6)"
   ]
  },
  {
   "cell_type": "code",
   "execution_count": 38,
   "metadata": {
    "ExecuteTime": {
     "end_time": "2022-03-30T00:09:53.440354Z",
     "start_time": "2022-03-30T00:09:53.435684Z"
    }
   },
   "outputs": [],
   "source": [
    "# creat dict to map datetime.dayofweek to the bad format given in the csv\n",
    "week_dict = {0:'Mon',\n",
    "             1:'Tue',\n",
    "             2:'Wed',\n",
    "             3:'Thu',\n",
    "             4:'Fri',\n",
    "             5:'Sat',\n",
    "             6:'Sun'}"
   ]
  },
  {
   "cell_type": "code",
   "execution_count": 39,
   "metadata": {
    "ExecuteTime": {
     "end_time": "2022-03-30T00:09:56.291713Z",
     "start_time": "2022-03-30T00:09:56.202056Z"
    }
   },
   "outputs": [],
   "source": [
    "# modify the dates with the bad format to align with the rest of the dataframe\n",
    "\n",
    "df.loc[df['date'].str.contains('Today') ,'date'] = today.strftime('%d %b %Y')\n",
    "df.loc[df['date'].str.contains(week_dict[today_m1.dayofweek]) ,'date'] = today_m1.strftime('%d %b %Y')\n",
    "df.loc[df['date'].str.contains(week_dict[today_m2.dayofweek]) ,'date'] = today_m2.strftime('%d %b %Y')\n",
    "df.loc[df['date'].str.contains(week_dict[today_m3.dayofweek]) ,'date'] = today_m3.strftime('%d %b %Y')\n",
    "df.loc[df['date'].str.contains(week_dict[today_m4.dayofweek]) ,'date'] = today_m4.strftime('%d %b %Y')\n",
    "df.loc[df['date'].str.contains(week_dict[today_m5.dayofweek]) ,'date'] = today_m5.strftime('%d %b %Y')\n",
    "df.loc[df['date'].str.contains(week_dict[today_m6.dayofweek]) ,'date'] = today_m6.strftime('%d %b %Y')"
   ]
  },
  {
   "cell_type": "code",
   "execution_count": 40,
   "metadata": {
    "ExecuteTime": {
     "end_time": "2022-03-30T00:09:57.257529Z",
     "start_time": "2022-03-30T00:09:57.241397Z"
    }
   },
   "outputs": [
    {
     "data": {
      "text/html": [
       "<div>\n",
       "<style scoped>\n",
       "    .dataframe tbody tr th:only-of-type {\n",
       "        vertical-align: middle;\n",
       "    }\n",
       "\n",
       "    .dataframe tbody tr th {\n",
       "        vertical-align: top;\n",
       "    }\n",
       "\n",
       "    .dataframe thead th {\n",
       "        text-align: right;\n",
       "    }\n",
       "</style>\n",
       "<table border=\"1\" class=\"dataframe\">\n",
       "  <thead>\n",
       "    <tr style=\"text-align: right;\">\n",
       "      <th></th>\n",
       "      <th>date</th>\n",
       "      <th>user</th>\n",
       "      <th>title</th>\n",
       "      <th>comment</th>\n",
       "      <th>opinion</th>\n",
       "      <th>price</th>\n",
       "    </tr>\n",
       "  </thead>\n",
       "  <tbody>\n",
       "    <tr>\n",
       "      <th>0</th>\n",
       "      <td>29 Mar 2022</td>\n",
       "      <td>Dillon2019</td>\n",
       "      <td>RE: Any use to us folks here?</td>\n",
       "      <td>This was on the BBC yesterday but I didnât c...</td>\n",
       "      <td>Strong Buy</td>\n",
       "      <td>13.1</td>\n",
       "    </tr>\n",
       "    <tr>\n",
       "      <th>1</th>\n",
       "      <td>29 Mar 2022</td>\n",
       "      <td>JiffyBag</td>\n",
       "      <td>RE: Any use to us folks here?</td>\n",
       "      <td>Russiaâs Economy in Freefallhttps://www.yout...</td>\n",
       "      <td>No Opinion</td>\n",
       "      <td>13.1</td>\n",
       "    </tr>\n",
       "    <tr>\n",
       "      <th>2</th>\n",
       "      <td>29 Mar 2022</td>\n",
       "      <td>JackoDLad</td>\n",
       "      <td>Any use to us folks here?</td>\n",
       "      <td>Found the following on another board (EUA) and...</td>\n",
       "      <td>No Opinion</td>\n",
       "      <td>13.1</td>\n",
       "    </tr>\n",
       "    <tr>\n",
       "      <th>3</th>\n",
       "      <td>29 Mar 2022</td>\n",
       "      <td>Tymers</td>\n",
       "      <td>RE: Naughty boys</td>\n",
       "      <td>Speedy, like Hydro at some point will be corre...</td>\n",
       "      <td>Strong Buy</td>\n",
       "      <td>13.1</td>\n",
       "    </tr>\n",
       "    <tr>\n",
       "      <th>4</th>\n",
       "      <td>29 Mar 2022</td>\n",
       "      <td>Tymers</td>\n",
       "      <td>RE: Choices</td>\n",
       "      <td>Choices is correct! Yet all comments are ones ...</td>\n",
       "      <td>Strong Buy</td>\n",
       "      <td>13.1</td>\n",
       "    </tr>\n",
       "  </tbody>\n",
       "</table>\n",
       "</div>"
      ],
      "text/plain": [
       "          date        user                          title  \\\n",
       "0  29 Mar 2022  Dillon2019  RE: Any use to us folks here?   \n",
       "1  29 Mar 2022    JiffyBag  RE: Any use to us folks here?   \n",
       "2  29 Mar 2022   JackoDLad      Any use to us folks here?   \n",
       "3  29 Mar 2022      Tymers               RE: Naughty boys   \n",
       "4  29 Mar 2022      Tymers                    RE: Choices   \n",
       "\n",
       "                                             comment     opinion  price  \n",
       "0  This was on the BBC yesterday but I didnât c...  Strong Buy   13.1  \n",
       "1  Russiaâs Economy in Freefallhttps://www.yout...  No Opinion   13.1  \n",
       "2  Found the following on another board (EUA) and...  No Opinion   13.1  \n",
       "3  Speedy, like Hydro at some point will be corre...  Strong Buy   13.1  \n",
       "4  Choices is correct! Yet all comments are ones ...  Strong Buy   13.1  "
      ]
     },
     "execution_count": 40,
     "metadata": {},
     "output_type": "execute_result"
    }
   ],
   "source": [
    "df.head()"
   ]
  },
  {
   "cell_type": "markdown",
   "metadata": {},
   "source": [
    "### Concatenating Scrapes"
   ]
  },
  {
   "cell_type": "markdown",
   "metadata": {},
   "source": [
    "Optional Steps - due to the unreliable nature of scraping data from the website, it is likely that more than one scrape will be required to build the larger datasets. The steps below naturally would need to be adapted based on the scrapes being combined. The date column is formated as per the above for the previous 5 days to the scrape date, so these steps may also need to be taken on separate csvs prior to concatenation. Removing duplicates to account for overlaps will also be neccessary."
   ]
  },
  {
   "cell_type": "code",
   "execution_count": 43,
   "metadata": {
    "ExecuteTime": {
     "end_time": "2022-03-30T00:14:44.977839Z",
     "start_time": "2022-03-30T00:14:44.940132Z"
    }
   },
   "outputs": [],
   "source": [
    "df = pd.concat([df2, df3, df1, df4], ignore_index=True)"
   ]
  },
  {
   "cell_type": "code",
   "execution_count": 44,
   "metadata": {
    "ExecuteTime": {
     "end_time": "2022-03-30T00:14:50.300410Z",
     "start_time": "2022-03-30T00:14:50.293173Z"
    }
   },
   "outputs": [
    {
     "data": {
      "text/plain": [
       "(133800, 6)"
      ]
     },
     "execution_count": 44,
     "metadata": {},
     "output_type": "execute_result"
    }
   ],
   "source": [
    "df.shape"
   ]
  },
  {
   "cell_type": "markdown",
   "metadata": {},
   "source": [
    "### comment field"
   ]
  },
  {
   "cell_type": "code",
   "execution_count": 45,
   "metadata": {
    "ExecuteTime": {
     "end_time": "2022-03-30T00:15:30.886884Z",
     "start_time": "2022-03-30T00:15:30.873747Z"
    }
   },
   "outputs": [
    {
     "data": {
      "text/plain": [
       "'Could be vanguard Aus? Grown their position significantly and manage huge assets:The assets under management (AUM) of Vanguard Investments Australia Limited is $104.7 billion, all of which is managed in discretionary accounts'"
      ]
     },
     "execution_count": 45,
     "metadata": {},
     "output_type": "execute_result"
    }
   ],
   "source": [
    "df.comment[20]"
   ]
  },
  {
   "cell_type": "markdown",
   "metadata": {},
   "source": [
    "Prior to any NLP work it will be neccessary to remove any bad text encoding information from the comments field. At this stage we wont be looking to tokenize the data, rather to remove special characters and numbers"
   ]
  },
  {
   "cell_type": "code",
   "execution_count": 46,
   "metadata": {
    "ExecuteTime": {
     "end_time": "2022-03-30T00:15:34.806750Z",
     "start_time": "2022-03-30T00:15:34.750126Z"
    }
   },
   "outputs": [
    {
     "data": {
      "text/html": [
       "<div>\n",
       "<style scoped>\n",
       "    .dataframe tbody tr th:only-of-type {\n",
       "        vertical-align: middle;\n",
       "    }\n",
       "\n",
       "    .dataframe tbody tr th {\n",
       "        vertical-align: top;\n",
       "    }\n",
       "\n",
       "    .dataframe thead th {\n",
       "        text-align: right;\n",
       "    }\n",
       "</style>\n",
       "<table border=\"1\" class=\"dataframe\">\n",
       "  <thead>\n",
       "    <tr style=\"text-align: right;\">\n",
       "      <th></th>\n",
       "      <th>date</th>\n",
       "      <th>user</th>\n",
       "      <th>title</th>\n",
       "      <th>comment</th>\n",
       "      <th>opinion</th>\n",
       "      <th>price</th>\n",
       "    </tr>\n",
       "  </thead>\n",
       "  <tbody>\n",
       "    <tr>\n",
       "      <th>94185</th>\n",
       "      <td>12 Sep '20</td>\n",
       "      <td>Dce2020</td>\n",
       "      <td>RE: My 2 Peneth</td>\n",
       "      <td>NaN</td>\n",
       "      <td>No Opinion</td>\n",
       "      <td>19.9</td>\n",
       "    </tr>\n",
       "    <tr>\n",
       "      <th>94186</th>\n",
       "      <td>12 Sep '20</td>\n",
       "      <td>Dce2020</td>\n",
       "      <td>RE: My 2 Peneth</td>\n",
       "      <td>NaN</td>\n",
       "      <td>No Opinion</td>\n",
       "      <td>19.9</td>\n",
       "    </tr>\n",
       "  </tbody>\n",
       "</table>\n",
       "</div>"
      ],
      "text/plain": [
       "             date     user            title comment     opinion  price\n",
       "94185  12 Sep '20  Dce2020  RE: My 2 Peneth     NaN  No Opinion   19.9\n",
       "94186  12 Sep '20  Dce2020  RE: My 2 Peneth     NaN  No Opinion   19.9"
      ]
     },
     "execution_count": 46,
     "metadata": {},
     "output_type": "execute_result"
    }
   ],
   "source": [
    "# see if there are any null rows in the data set\n",
    "df[df.isnull().sum(axis=1)>0]"
   ]
  },
  {
   "cell_type": "code",
   "execution_count": 47,
   "metadata": {
    "ExecuteTime": {
     "end_time": "2022-03-30T00:16:00.010834Z",
     "start_time": "2022-03-30T00:16:00.000925Z"
    }
   },
   "outputs": [],
   "source": [
    "# this function will be used to process the comments into a clean comment column\n",
    "# clean comment columns will be more workable for NLP\n",
    "\n",
    "def text_clean(text):\n",
    "    # string text\n",
    "    st = str(text)\n",
    "    \n",
    "    # make lowercase\n",
    "    lc = st.lower()\n",
    "    \n",
    "    # remove any web addresses\n",
    "    rem_url = re.sub(r'http\\S+', '', lc)\n",
    "    \n",
    "    # remove any special characters\n",
    "    rem_char = re.sub(r'[^a-z ]+', '', rem_url)\n",
    "    \n",
    "    # remove whitespace\n",
    "    rem_ws = re.sub('\\s\\s+', ' ', rem_char)\n",
    "    \n",
    "    # tokenize words\n",
    "    tokenizer = RegexpTokenizer(r'\\w+')\n",
    "    tokens = tokenizer.tokenize(rem_ws)\n",
    "    \n",
    "    # remove any words with 2 characters or less\n",
    "    filtered_words = [w for w in tokens if len(w) > 2]\n",
    "    \n",
    "    # return tokens rejoined into a string\n",
    "    return ' '.join(filtered_words)"
   ]
  },
  {
   "cell_type": "code",
   "execution_count": 48,
   "metadata": {
    "ExecuteTime": {
     "end_time": "2022-03-30T00:16:12.146074Z",
     "start_time": "2022-03-30T00:16:07.453858Z"
    }
   },
   "outputs": [],
   "source": [
    "df['comment_clean'] = df['comment'].map(lambda x: text_clean(x))"
   ]
  },
  {
   "cell_type": "code",
   "execution_count": 137,
   "metadata": {
    "ExecuteTime": {
     "end_time": "2022-03-22T23:54:58.860287Z",
     "start_time": "2022-03-22T23:54:58.830786Z"
    },
    "scrolled": true
   },
   "outputs": [
    {
     "data": {
      "text/html": [
       "<div>\n",
       "<style scoped>\n",
       "    .dataframe tbody tr th:only-of-type {\n",
       "        vertical-align: middle;\n",
       "    }\n",
       "\n",
       "    .dataframe tbody tr th {\n",
       "        vertical-align: top;\n",
       "    }\n",
       "\n",
       "    .dataframe thead th {\n",
       "        text-align: right;\n",
       "    }\n",
       "</style>\n",
       "<table border=\"1\" class=\"dataframe\">\n",
       "  <thead>\n",
       "    <tr style=\"text-align: right;\">\n",
       "      <th></th>\n",
       "      <th>date</th>\n",
       "      <th>user</th>\n",
       "      <th>title</th>\n",
       "      <th>comment</th>\n",
       "      <th>opinion</th>\n",
       "      <th>price</th>\n",
       "      <th>datetime</th>\n",
       "      <th>comment_clean</th>\n",
       "    </tr>\n",
       "  </thead>\n",
       "  <tbody>\n",
       "    <tr>\n",
       "      <th>0</th>\n",
       "      <td>31 Jan 2022</td>\n",
       "      <td>JiffyBag</td>\n",
       "      <td>RE: SAS</td>\n",
       "      <td>For me, it was just a fun exercise to do, and ...</td>\n",
       "      <td>No Opinion</td>\n",
       "      <td>13.8</td>\n",
       "      <td>2022-01-31</td>\n",
       "      <td>for was just fun exercise and will have see wh...</td>\n",
       "    </tr>\n",
       "    <tr>\n",
       "      <th>1</th>\n",
       "      <td>31 Jan 2022</td>\n",
       "      <td>JiffyBag</td>\n",
       "      <td>RE: SAS</td>\n",
       "      <td>Hi Walkabout,I fully acknoweldege your rationa...</td>\n",
       "      <td>No Opinion</td>\n",
       "      <td>13.8</td>\n",
       "      <td>2022-01-31</td>\n",
       "      <td>walkabouti fully acknoweldege your rationale e...</td>\n",
       "    </tr>\n",
       "    <tr>\n",
       "      <th>2</th>\n",
       "      <td>31 Jan 2022</td>\n",
       "      <td>rosso123</td>\n",
       "      <td>Newcrest pulling a fast one</td>\n",
       "      <td>NCM wants this 5% done and dusted asap, otherw...</td>\n",
       "      <td>No Opinion</td>\n",
       "      <td>13.8</td>\n",
       "      <td>2022-01-31</td>\n",
       "      <td>ncm wants this done and dusted asap otherwise ...</td>\n",
       "    </tr>\n",
       "    <tr>\n",
       "      <th>3</th>\n",
       "      <td>31 Jan 2022</td>\n",
       "      <td>JiffyBag</td>\n",
       "      <td>RE: Why would u short this</td>\n",
       "      <td>Merc,It would be fantastic if someone could ac...</td>\n",
       "      <td>No Opinion</td>\n",
       "      <td>13.8</td>\n",
       "      <td>2022-01-31</td>\n",
       "      <td>mercit would fantastic someone could actually ...</td>\n",
       "    </tr>\n",
       "    <tr>\n",
       "      <th>4</th>\n",
       "      <td>31 Jan 2022</td>\n",
       "      <td>Philbrim</td>\n",
       "      <td>Ups n downs.</td>\n",
       "      <td>We go down 5% and most people are so volatile....</td>\n",
       "      <td>No Opinion</td>\n",
       "      <td>13.8</td>\n",
       "      <td>2022-01-31</td>\n",
       "      <td>down and most people are volatile and everyone...</td>\n",
       "    </tr>\n",
       "  </tbody>\n",
       "</table>\n",
       "</div>"
      ],
      "text/plain": [
       "          date      user                        title  \\\n",
       "0  31 Jan 2022  JiffyBag                      RE: SAS   \n",
       "1  31 Jan 2022  JiffyBag                      RE: SAS   \n",
       "2  31 Jan 2022  rosso123  Newcrest pulling a fast one   \n",
       "3  31 Jan 2022  JiffyBag   RE: Why would u short this   \n",
       "4  31 Jan 2022  Philbrim                 Ups n downs.   \n",
       "\n",
       "                                             comment     opinion  price  \\\n",
       "0  For me, it was just a fun exercise to do, and ...  No Opinion   13.8   \n",
       "1  Hi Walkabout,I fully acknoweldege your rationa...  No Opinion   13.8   \n",
       "2  NCM wants this 5% done and dusted asap, otherw...  No Opinion   13.8   \n",
       "3  Merc,It would be fantastic if someone could ac...  No Opinion   13.8   \n",
       "4  We go down 5% and most people are so volatile....  No Opinion   13.8   \n",
       "\n",
       "    datetime                                      comment_clean  \n",
       "0 2022-01-31  for was just fun exercise and will have see wh...  \n",
       "1 2022-01-31  walkabouti fully acknoweldege your rationale e...  \n",
       "2 2022-01-31  ncm wants this done and dusted asap otherwise ...  \n",
       "3 2022-01-31  mercit would fantastic someone could actually ...  \n",
       "4 2022-01-31  down and most people are volatile and everyone...  "
      ]
     },
     "execution_count": 137,
     "metadata": {},
     "output_type": "execute_result"
    }
   ],
   "source": [
    "df.head()"
   ]
  },
  {
   "cell_type": "code",
   "execution_count": 49,
   "metadata": {
    "ExecuteTime": {
     "end_time": "2022-03-30T00:16:15.400597Z",
     "start_time": "2022-03-30T00:16:15.316557Z"
    }
   },
   "outputs": [
    {
     "data": {
      "text/html": [
       "<div>\n",
       "<style scoped>\n",
       "    .dataframe tbody tr th:only-of-type {\n",
       "        vertical-align: middle;\n",
       "    }\n",
       "\n",
       "    .dataframe tbody tr th {\n",
       "        vertical-align: top;\n",
       "    }\n",
       "\n",
       "    .dataframe thead th {\n",
       "        text-align: right;\n",
       "    }\n",
       "</style>\n",
       "<table border=\"1\" class=\"dataframe\">\n",
       "  <thead>\n",
       "    <tr style=\"text-align: right;\">\n",
       "      <th></th>\n",
       "      <th>date</th>\n",
       "      <th>user</th>\n",
       "      <th>title</th>\n",
       "      <th>comment</th>\n",
       "      <th>opinion</th>\n",
       "      <th>price</th>\n",
       "      <th>comment_clean</th>\n",
       "    </tr>\n",
       "  </thead>\n",
       "  <tbody>\n",
       "    <tr>\n",
       "      <th>94185</th>\n",
       "      <td>12 Sep '20</td>\n",
       "      <td>Dce2020</td>\n",
       "      <td>RE: My 2 Peneth</td>\n",
       "      <td>NaN</td>\n",
       "      <td>No Opinion</td>\n",
       "      <td>19.9</td>\n",
       "      <td>nan</td>\n",
       "    </tr>\n",
       "    <tr>\n",
       "      <th>94186</th>\n",
       "      <td>12 Sep '20</td>\n",
       "      <td>Dce2020</td>\n",
       "      <td>RE: My 2 Peneth</td>\n",
       "      <td>NaN</td>\n",
       "      <td>No Opinion</td>\n",
       "      <td>19.9</td>\n",
       "      <td>nan</td>\n",
       "    </tr>\n",
       "  </tbody>\n",
       "</table>\n",
       "</div>"
      ],
      "text/plain": [
       "             date     user            title comment     opinion  price  \\\n",
       "94185  12 Sep '20  Dce2020  RE: My 2 Peneth     NaN  No Opinion   19.9   \n",
       "94186  12 Sep '20  Dce2020  RE: My 2 Peneth     NaN  No Opinion   19.9   \n",
       "\n",
       "      comment_clean  \n",
       "94185           nan  \n",
       "94186           nan  "
      ]
     },
     "execution_count": 49,
     "metadata": {},
     "output_type": "execute_result"
    }
   ],
   "source": [
    "# see if there are any null rows in the data set\n",
    "df[df.isnull().sum(axis=1)>0]"
   ]
  },
  {
   "cell_type": "code",
   "execution_count": 50,
   "metadata": {
    "ExecuteTime": {
     "end_time": "2022-03-30T00:16:20.715529Z",
     "start_time": "2022-03-30T00:16:20.631363Z"
    }
   },
   "outputs": [],
   "source": [
    "# drop any nul rows if neccessary\n",
    "df.dropna(inplace=True)"
   ]
  },
  {
   "cell_type": "code",
   "execution_count": 51,
   "metadata": {
    "ExecuteTime": {
     "end_time": "2022-03-30T00:21:23.126873Z",
     "start_time": "2022-03-30T00:21:23.106217Z"
    }
   },
   "outputs": [
    {
     "data": {
      "text/plain": [
       "(133798, 7)"
      ]
     },
     "execution_count": 51,
     "metadata": {},
     "output_type": "execute_result"
    }
   ],
   "source": [
    "df.shape"
   ]
  },
  {
   "cell_type": "code",
   "execution_count": 52,
   "metadata": {
    "ExecuteTime": {
     "end_time": "2022-03-30T00:23:19.171951Z",
     "start_time": "2022-03-30T00:23:18.770386Z"
    }
   },
   "outputs": [],
   "source": [
    "df.drop_duplicates(inplace=True, ignore_index=True)"
   ]
  },
  {
   "cell_type": "code",
   "execution_count": 53,
   "metadata": {
    "ExecuteTime": {
     "end_time": "2022-03-30T00:23:26.753860Z",
     "start_time": "2022-03-30T00:23:26.746641Z"
    }
   },
   "outputs": [
    {
     "data": {
      "text/plain": [
       "(132558, 7)"
      ]
     },
     "execution_count": 53,
     "metadata": {},
     "output_type": "execute_result"
    }
   ],
   "source": [
    "df.shape"
   ]
  },
  {
   "cell_type": "code",
   "execution_count": 54,
   "metadata": {
    "ExecuteTime": {
     "end_time": "2022-03-30T00:24:06.958393Z",
     "start_time": "2022-03-30T00:24:06.935548Z"
    }
   },
   "outputs": [
    {
     "data": {
      "text/html": [
       "<div>\n",
       "<style scoped>\n",
       "    .dataframe tbody tr th:only-of-type {\n",
       "        vertical-align: middle;\n",
       "    }\n",
       "\n",
       "    .dataframe tbody tr th {\n",
       "        vertical-align: top;\n",
       "    }\n",
       "\n",
       "    .dataframe thead th {\n",
       "        text-align: right;\n",
       "    }\n",
       "</style>\n",
       "<table border=\"1\" class=\"dataframe\">\n",
       "  <thead>\n",
       "    <tr style=\"text-align: right;\">\n",
       "      <th></th>\n",
       "      <th>date</th>\n",
       "      <th>user</th>\n",
       "      <th>title</th>\n",
       "      <th>comment</th>\n",
       "      <th>opinion</th>\n",
       "      <th>price</th>\n",
       "      <th>comment_clean</th>\n",
       "    </tr>\n",
       "  </thead>\n",
       "  <tbody>\n",
       "    <tr>\n",
       "      <th>0</th>\n",
       "      <td>7 Dec '21</td>\n",
       "      <td>hydrogen</td>\n",
       "      <td>RE: Hydro</td>\n",
       "      <td>Yes Sir.</td>\n",
       "      <td>No Opinion</td>\n",
       "      <td>14.05</td>\n",
       "      <td>yes sir</td>\n",
       "    </tr>\n",
       "    <tr>\n",
       "      <th>1</th>\n",
       "      <td>7 Dec '21</td>\n",
       "      <td>Sycho</td>\n",
       "      <td>Hydro</td>\n",
       "      <td>Lets keep your 12:35 post to ourselves and kee...</td>\n",
       "      <td>No Opinion</td>\n",
       "      <td>14.05</td>\n",
       "      <td>lets keep your post ourselves and keep realyou...</td>\n",
       "    </tr>\n",
       "    <tr>\n",
       "      <th>2</th>\n",
       "      <td>7 Dec '21</td>\n",
       "      <td>TomE</td>\n",
       "      <td>GGPSP</td>\n",
       "      <td>So what happened to the \"Expect a sudden jump ...</td>\n",
       "      <td>No Opinion</td>\n",
       "      <td>14.05</td>\n",
       "      <td>what happened the expect sudden jump price its...</td>\n",
       "    </tr>\n",
       "    <tr>\n",
       "      <th>3</th>\n",
       "      <td>7 Dec '21</td>\n",
       "      <td>Sycho</td>\n",
       "      <td>RE: Personally in my opinion</td>\n",
       "      <td>LOL, now that's more like it.</td>\n",
       "      <td>No Opinion</td>\n",
       "      <td>14.05</td>\n",
       "      <td>lol now thats more like</td>\n",
       "    </tr>\n",
       "    <tr>\n",
       "      <th>4</th>\n",
       "      <td>7 Dec '21</td>\n",
       "      <td>Shady69</td>\n",
       "      <td>RE: Personally in my opinion</td>\n",
       "      <td>Hydro it's so well put it could bring a tear t...</td>\n",
       "      <td>No Opinion</td>\n",
       "      <td>14.05</td>\n",
       "      <td>hydro its well put could bring tear glass eye ...</td>\n",
       "    </tr>\n",
       "  </tbody>\n",
       "</table>\n",
       "</div>"
      ],
      "text/plain": [
       "        date      user                         title  \\\n",
       "0  7 Dec '21  hydrogen                     RE: Hydro   \n",
       "1  7 Dec '21     Sycho                         Hydro   \n",
       "2  7 Dec '21      TomE                         GGPSP   \n",
       "3  7 Dec '21     Sycho  RE: Personally in my opinion   \n",
       "4  7 Dec '21   Shady69  RE: Personally in my opinion   \n",
       "\n",
       "                                             comment     opinion  price  \\\n",
       "0                                           Yes Sir.  No Opinion  14.05   \n",
       "1  Lets keep your 12:35 post to ourselves and kee...  No Opinion  14.05   \n",
       "2  So what happened to the \"Expect a sudden jump ...  No Opinion  14.05   \n",
       "3                      LOL, now that's more like it.  No Opinion  14.05   \n",
       "4  Hydro it's so well put it could bring a tear t...  No Opinion  14.05   \n",
       "\n",
       "                                       comment_clean  \n",
       "0                                            yes sir  \n",
       "1  lets keep your post ourselves and keep realyou...  \n",
       "2  what happened the expect sudden jump price its...  \n",
       "3                            lol now thats more like  \n",
       "4  hydro its well put could bring tear glass eye ...  "
      ]
     },
     "execution_count": 54,
     "metadata": {},
     "output_type": "execute_result"
    }
   ],
   "source": [
    "df.head()"
   ]
  },
  {
   "cell_type": "markdown",
   "metadata": {},
   "source": [
    "## Export to csv"
   ]
  },
  {
   "cell_type": "code",
   "execution_count": 55,
   "metadata": {
    "ExecuteTime": {
     "end_time": "2022-03-30T00:24:53.251976Z",
     "start_time": "2022-03-30T00:24:51.667479Z"
    }
   },
   "outputs": [],
   "source": [
    "# save to csv - note this is a local path\n",
    "\n",
    "df.to_csv('../../../GA/Capstone/scrapes/large_scrape_29-Mar-22_.csv', index=False)"
   ]
  },
  {
   "cell_type": "markdown",
   "metadata": {},
   "source": [
    "## NLP EDA"
   ]
  },
  {
   "cell_type": "markdown",
   "metadata": {},
   "source": [
    "### Import NLP Packages"
   ]
  },
  {
   "cell_type": "code",
   "execution_count": null,
   "metadata": {
    "ExecuteTime": {
     "end_time": "2022-03-18T19:58:28.884524Z",
     "start_time": "2022-03-18T19:58:25.026080Z"
    }
   },
   "outputs": [],
   "source": [
    "import nltk\n",
    "from nltk.tokenize import RegexpTokenizer, word_tokenize, sent_tokenize\n",
    "from sklearn.feature_extraction.text import CountVectorizer, TfidfVectorizer\n",
    "from nltk.corpus import stopwords\n",
    "from nltk.text import Text\n",
    "import re\n",
    "from sklearn.linear_model import LogisticRegression\n",
    "from sklearn.pipeline import make_pipeline\n",
    "from sklearn.model_selection import cross_val_score\n",
    "from sklearn.model_selection import train_test_split\n",
    "from sklearn.preprocessing import StandardScaler\n",
    "from sklearn.ensemble import RandomForestClassifier\n",
    "from sklearn.metrics import plot_confusion_matrix, precision_score, classification_report\n",
    "\n",
    "\n",
    "tokenizer = RegexpTokenizer(r'\\w+')"
   ]
  }
 ],
 "metadata": {
  "kernelspec": {
   "display_name": "Python 3",
   "language": "python",
   "name": "python3"
  },
  "language_info": {
   "codemirror_mode": {
    "name": "ipython",
    "version": 3
   },
   "file_extension": ".py",
   "mimetype": "text/x-python",
   "name": "python",
   "nbconvert_exporter": "python",
   "pygments_lexer": "ipython3",
   "version": "3.7.6"
  },
  "toc": {
   "base_numbering": 1,
   "nav_menu": {},
   "number_sections": true,
   "sideBar": true,
   "skip_h1_title": false,
   "title_cell": "Table of Contents",
   "title_sidebar": "Contents",
   "toc_cell": false,
   "toc_position": {
    "height": "calc(100% - 180px)",
    "left": "10px",
    "top": "150px",
    "width": "165px"
   },
   "toc_section_display": true,
   "toc_window_display": true
  },
  "varInspector": {
   "cols": {
    "lenName": 16,
    "lenType": 16,
    "lenVar": 40
   },
   "kernels_config": {
    "python": {
     "delete_cmd_postfix": "",
     "delete_cmd_prefix": "del ",
     "library": "var_list.py",
     "varRefreshCmd": "print(var_dic_list())"
    },
    "r": {
     "delete_cmd_postfix": ") ",
     "delete_cmd_prefix": "rm(",
     "library": "var_list.r",
     "varRefreshCmd": "cat(var_dic_list()) "
    }
   },
   "types_to_exclude": [
    "module",
    "function",
    "builtin_function_or_method",
    "instance",
    "_Feature"
   ],
   "window_display": false
  }
 },
 "nbformat": 4,
 "nbformat_minor": 4
}
